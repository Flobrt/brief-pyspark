{
 "cells": [
  {
   "cell_type": "code",
   "execution_count": 284,
   "metadata": {},
   "outputs": [],
   "source": [
    "from pyspark.sql import SparkSession \n",
    "import pyspark.sql.functions as F\n",
    "\n",
    "   \n",
    "spark = SparkSession.builder \\\n",
    "    .master(\"local[*]\") \\\n",
    "    .appName(\"MigrationExample\") \\\n",
    "    .getOrCreate()\n",
    "\n",
    "# Données d'exemple\n",
    "\n",
    "matrix = [\n",
    "    [' Ricky', 4879320143, '2022-09-05 11:23:59', True],\n",
    "    ['Simon', 4879320143, '2022-09-05 11:23:59', True],\n",
    "    ['Sergio', 4879320143, '2022-09-05 11:23:59', True],\n",
    "    ['Pedrito', 4879320143, '2022-09-07 11:23:59', True],\n",
    "    ['jJuenito', 4879320143, '2022-09-08 11:23:59', True],\n",
    "    ['Pepe', 4879320143, '2022-09-09 11:23:59', True],\n",
    "    ['Liusa', 4879320143, '2022-09-05 11:23:59', True],\n",
    "]\n",
    "\n",
    "columns = ['name', 'dni', 'date', 'is_human']\n",
    "\n",
    "spark_df = spark.createDataFrame(matrix, columns)\n"
   ]
  },
  {
   "cell_type": "code",
   "execution_count": 285,
   "metadata": {},
   "outputs": [
    {
     "name": "stdout",
     "output_type": "stream",
     "text": [
      "+--------+----------+-------------------+--------+\n",
      "|    name|       dni|               date|is_human|\n",
      "+--------+----------+-------------------+--------+\n",
      "|   Ricky|4879320143|2022-09-05 11:23:59|    true|\n",
      "|   Simon|4879320143|2022-09-05 11:23:59|    true|\n",
      "|  Sergio|4879320143|2022-09-05 11:23:59|    true|\n",
      "| Pedrito|4879320143|2022-09-07 11:23:59|    true|\n",
      "|jJuenito|4879320143|2022-09-08 11:23:59|    true|\n",
      "|    Pepe|4879320143|2022-09-09 11:23:59|    true|\n",
      "|   Liusa|4879320143|2022-09-05 11:23:59|    true|\n",
      "+--------+----------+-------------------+--------+\n",
      "\n"
     ]
    }
   ],
   "source": [
    "spark_df.show()"
   ]
  },
  {
   "cell_type": "markdown",
   "metadata": {},
   "source": [
    "### 1. `lit`: Ajouter une colonne avec une valeur constante"
   ]
  },
  {
   "cell_type": "code",
   "execution_count": 286,
   "metadata": {},
   "outputs": [
    {
     "name": "stdout",
     "output_type": "stream",
     "text": [
      "+--------+----------+-------------------+--------+--------+\n",
      "|    name|       dni|               date|is_human|constant|\n",
      "+--------+----------+-------------------+--------+--------+\n",
      "|   Ricky|4879320143|2022-09-05 11:23:59|    true|       1|\n",
      "|   Simon|4879320143|2022-09-05 11:23:59|    true|       1|\n",
      "|  Sergio|4879320143|2022-09-05 11:23:59|    true|       1|\n",
      "| Pedrito|4879320143|2022-09-07 11:23:59|    true|       1|\n",
      "|jJuenito|4879320143|2022-09-08 11:23:59|    true|       1|\n",
      "|    Pepe|4879320143|2022-09-09 11:23:59|    true|       1|\n",
      "|   Liusa|4879320143|2022-09-05 11:23:59|    true|       1|\n",
      "+--------+----------+-------------------+--------+--------+\n",
      "\n"
     ]
    }
   ],
   "source": [
    "spark_df = spark_df.withColumn(\"constant\", F.lit(1))\n",
    "spark_df.show()"
   ]
  },
  {
   "cell_type": "markdown",
   "metadata": {},
   "source": [
    "### 2. `col` et `when`: Créer une colonne avec une condition"
   ]
  },
  {
   "cell_type": "code",
   "execution_count": 287,
   "metadata": {},
   "outputs": [
    {
     "name": "stdout",
     "output_type": "stream",
     "text": [
      "+--------+----------+-------------------+--------+--------+------+\n",
      "|    name|       dni|               date|is_human|constant|filter|\n",
      "+--------+----------+-------------------+--------+--------+------+\n",
      "|   Ricky|4879320143|2022-09-05 11:23:59|    true|       1|     0|\n",
      "|   Simon|4879320143|2022-09-05 11:23:59|    true|       1|     1|\n",
      "|  Sergio|4879320143|2022-09-05 11:23:59|    true|       1|     0|\n",
      "| Pedrito|4879320143|2022-09-07 11:23:59|    true|       1|     0|\n",
      "|jJuenito|4879320143|2022-09-08 11:23:59|    true|       1|     0|\n",
      "|    Pepe|4879320143|2022-09-09 11:23:59|    true|       1|     0|\n",
      "|   Liusa|4879320143|2022-09-05 11:23:59|    true|       1|     0|\n",
      "+--------+----------+-------------------+--------+--------+------+\n",
      "\n"
     ]
    }
   ],
   "source": [
    "spark_df = spark_df.withColumn(\"filter\", F.when(F.col('name') == \"Simon\", 1).otherwise(0))\n",
    "spark_df.show()"
   ]
  },
  {
   "cell_type": "markdown",
   "metadata": {},
   "source": [
    "### 3. `concat`: Combiner des colonnes en une seule chaîne"
   ]
  },
  {
   "cell_type": "code",
   "execution_count": 288,
   "metadata": {},
   "outputs": [
    {
     "name": "stdout",
     "output_type": "stream",
     "text": [
      "+--------+----------+-------------------+--------+--------+------+--------------------+\n",
      "|    name|       dni|               date|is_human|constant|filter|              concat|\n",
      "+--------+----------+-------------------+--------+--------+------+--------------------+\n",
      "|   Ricky|4879320143|2022-09-05 11:23:59|    true|       1|     0| Ricky2022-09-05 ...|\n",
      "|   Simon|4879320143|2022-09-05 11:23:59|    true|       1|     1|Simon2022-09-05 1...|\n",
      "|  Sergio|4879320143|2022-09-05 11:23:59|    true|       1|     0|Sergio2022-09-05 ...|\n",
      "| Pedrito|4879320143|2022-09-07 11:23:59|    true|       1|     0|Pedrito2022-09-07...|\n",
      "|jJuenito|4879320143|2022-09-08 11:23:59|    true|       1|     0|jJuenito2022-09-0...|\n",
      "|    Pepe|4879320143|2022-09-09 11:23:59|    true|       1|     0|Pepe2022-09-09 11...|\n",
      "|   Liusa|4879320143|2022-09-05 11:23:59|    true|       1|     0|Liusa2022-09-05 1...|\n",
      "+--------+----------+-------------------+--------+--------+------+--------------------+\n",
      "\n"
     ]
    }
   ],
   "source": [
    "spark_df = spark_df.withColumn(\"concat\", F.concat(F.col('name'), F.col('date')))\n",
    "spark_df.show()"
   ]
  },
  {
   "cell_type": "markdown",
   "metadata": {},
   "source": [
    "#### 4. `month`, `year`, `quarter`: Extraire le mois, l'année et le trimestre"
   ]
  },
  {
   "cell_type": "code",
   "execution_count": 289,
   "metadata": {},
   "outputs": [
    {
     "name": "stdout",
     "output_type": "stream",
     "text": [
      "+--------+----------+-------------------+--------+--------+------+--------------------+---------+----+-----------+\n",
      "|    name|       dni|               date|is_human|constant|filter|              concat|    month|year|    quarter|\n",
      "+--------+----------+-------------------+--------+--------+------+--------------------+---------+----+-----------+\n",
      "|   Ricky|4879320143|2022-09-05 11:23:59|    true|       1|     0| Ricky2022-09-05 ...|September|2022|3rd quarter|\n",
      "|   Simon|4879320143|2022-09-05 11:23:59|    true|       1|     1|Simon2022-09-05 1...|September|2022|3rd quarter|\n",
      "|  Sergio|4879320143|2022-09-05 11:23:59|    true|       1|     0|Sergio2022-09-05 ...|September|2022|3rd quarter|\n",
      "| Pedrito|4879320143|2022-09-07 11:23:59|    true|       1|     0|Pedrito2022-09-07...|September|2022|3rd quarter|\n",
      "|jJuenito|4879320143|2022-09-08 11:23:59|    true|       1|     0|jJuenito2022-09-0...|September|2022|3rd quarter|\n",
      "|    Pepe|4879320143|2022-09-09 11:23:59|    true|       1|     0|Pepe2022-09-09 11...|September|2022|3rd quarter|\n",
      "|   Liusa|4879320143|2022-09-05 11:23:59|    true|       1|     0|Liusa2022-09-05 1...|September|2022|3rd quarter|\n",
      "+--------+----------+-------------------+--------+--------+------+--------------------+---------+----+-----------+\n",
      "\n"
     ]
    }
   ],
   "source": [
    "spark_df = spark_df.withColumn(\"month\", F.date_format('date', 'MMMM')) \\\n",
    "    .withColumn(\"year\", F.date_format('date', 'y')) \\\n",
    "    .withColumn(\"quarter\", F.date_format('date', 'QQQQ'))\n",
    "\n",
    "spark_df.show()"
   ]
  },
  {
   "cell_type": "markdown",
   "metadata": {},
   "source": [
    "### # 5. `abs` et `floor`: Appliquer des fonctions mathématiques"
   ]
  },
  {
   "cell_type": "code",
   "execution_count": 290,
   "metadata": {},
   "outputs": [
    {
     "name": "stdout",
     "output_type": "stream",
     "text": [
      "+--------+----------+-------------------+--------+--------+------+--------------------+---------+----+-----------+-----+\n",
      "|    name|       dni|               date|is_human|constant|filter|              concat|    month|year|    quarter|float|\n",
      "+--------+----------+-------------------+--------+--------+------+--------------------+---------+----+-----------+-----+\n",
      "|   Ricky|4879320143|2022-09-05 11:23:59|    true|       1|     0| Ricky2022-09-05 ...|September|2022|3rd quarter|-1.12|\n",
      "|   Simon|4879320143|2022-09-05 11:23:59|    true|       1|     1|Simon2022-09-05 1...|September|2022|3rd quarter|-1.12|\n",
      "|  Sergio|4879320143|2022-09-05 11:23:59|    true|       1|     0|Sergio2022-09-05 ...|September|2022|3rd quarter|-1.12|\n",
      "| Pedrito|4879320143|2022-09-07 11:23:59|    true|       1|     0|Pedrito2022-09-07...|September|2022|3rd quarter|-1.12|\n",
      "|jJuenito|4879320143|2022-09-08 11:23:59|    true|       1|     0|jJuenito2022-09-0...|September|2022|3rd quarter|-1.12|\n",
      "|    Pepe|4879320143|2022-09-09 11:23:59|    true|       1|     0|Pepe2022-09-09 11...|September|2022|3rd quarter|-1.12|\n",
      "|   Liusa|4879320143|2022-09-05 11:23:59|    true|       1|     0|Liusa2022-09-05 1...|September|2022|3rd quarter|-1.12|\n",
      "+--------+----------+-------------------+--------+--------+------+--------------------+---------+----+-----------+-----+\n",
      "\n"
     ]
    }
   ],
   "source": [
    "spark_df = spark_df.withColumn(\"float\", F.lit('-1.12'))\n",
    "spark_df.show()"
   ]
  },
  {
   "cell_type": "code",
   "execution_count": 291,
   "metadata": {},
   "outputs": [
    {
     "name": "stdout",
     "output_type": "stream",
     "text": [
      "+--------+----------+-------------------+--------+--------+------+--------------------+---------+----+-----------+-----+----+\n",
      "|    name|       dni|               date|is_human|constant|filter|              concat|    month|year|    quarter|float| abs|\n",
      "+--------+----------+-------------------+--------+--------+------+--------------------+---------+----+-----------+-----+----+\n",
      "|   Ricky|4879320143|2022-09-05 11:23:59|    true|       1|     0| Ricky2022-09-05 ...|September|2022|3rd quarter|-1.12|1.12|\n",
      "|   Simon|4879320143|2022-09-05 11:23:59|    true|       1|     1|Simon2022-09-05 1...|September|2022|3rd quarter|-1.12|1.12|\n",
      "|  Sergio|4879320143|2022-09-05 11:23:59|    true|       1|     0|Sergio2022-09-05 ...|September|2022|3rd quarter|-1.12|1.12|\n",
      "| Pedrito|4879320143|2022-09-07 11:23:59|    true|       1|     0|Pedrito2022-09-07...|September|2022|3rd quarter|-1.12|1.12|\n",
      "|jJuenito|4879320143|2022-09-08 11:23:59|    true|       1|     0|jJuenito2022-09-0...|September|2022|3rd quarter|-1.12|1.12|\n",
      "|    Pepe|4879320143|2022-09-09 11:23:59|    true|       1|     0|Pepe2022-09-09 11...|September|2022|3rd quarter|-1.12|1.12|\n",
      "|   Liusa|4879320143|2022-09-05 11:23:59|    true|       1|     0|Liusa2022-09-05 1...|September|2022|3rd quarter|-1.12|1.12|\n",
      "+--------+----------+-------------------+--------+--------+------+--------------------+---------+----+-----------+-----+----+\n",
      "\n"
     ]
    }
   ],
   "source": [
    "spark_df = spark_df.withColumn(\"abs\", F.abs(spark_df.float))\n",
    "spark_df.show()"
   ]
  },
  {
   "cell_type": "code",
   "execution_count": 292,
   "metadata": {},
   "outputs": [
    {
     "name": "stdout",
     "output_type": "stream",
     "text": [
      "+--------+----------+-------------------+--------+--------+------+--------------------+---------+----+-----------+-----+----+-----+\n",
      "|    name|       dni|               date|is_human|constant|filter|              concat|    month|year|    quarter|float| abs|floor|\n",
      "+--------+----------+-------------------+--------+--------+------+--------------------+---------+----+-----------+-----+----+-----+\n",
      "|   Ricky|4879320143|2022-09-05 11:23:59|    true|       1|     0| Ricky2022-09-05 ...|September|2022|3rd quarter|-1.12|1.12|   -2|\n",
      "|   Simon|4879320143|2022-09-05 11:23:59|    true|       1|     1|Simon2022-09-05 1...|September|2022|3rd quarter|-1.12|1.12|   -2|\n",
      "|  Sergio|4879320143|2022-09-05 11:23:59|    true|       1|     0|Sergio2022-09-05 ...|September|2022|3rd quarter|-1.12|1.12|   -2|\n",
      "| Pedrito|4879320143|2022-09-07 11:23:59|    true|       1|     0|Pedrito2022-09-07...|September|2022|3rd quarter|-1.12|1.12|   -2|\n",
      "|jJuenito|4879320143|2022-09-08 11:23:59|    true|       1|     0|jJuenito2022-09-0...|September|2022|3rd quarter|-1.12|1.12|   -2|\n",
      "|    Pepe|4879320143|2022-09-09 11:23:59|    true|       1|     0|Pepe2022-09-09 11...|September|2022|3rd quarter|-1.12|1.12|   -2|\n",
      "|   Liusa|4879320143|2022-09-05 11:23:59|    true|       1|     0|Liusa2022-09-05 1...|September|2022|3rd quarter|-1.12|1.12|   -2|\n",
      "+--------+----------+-------------------+--------+--------+------+--------------------+---------+----+-----------+-----+----+-----+\n",
      "\n"
     ]
    }
   ],
   "source": [
    "spark_df = spark_df.withColumn('floor', F.floor(spark_df.float))\n",
    "spark_df.show()"
   ]
  },
  {
   "cell_type": "code",
   "execution_count": 293,
   "metadata": {},
   "outputs": [
    {
     "name": "stdout",
     "output_type": "stream",
     "text": [
      "+--------+----------+-------------------+--------+--------+------+--------------------+---------+----+-----------+-----+----+-----+----+\n",
      "|    name|       dni|               date|is_human|constant|filter|              concat|    month|year|    quarter|float| abs|floor|ceil|\n",
      "+--------+----------+-------------------+--------+--------+------+--------------------+---------+----+-----------+-----+----+-----+----+\n",
      "|   Ricky|4879320143|2022-09-05 11:23:59|    true|       1|     0| Ricky2022-09-05 ...|September|2022|3rd quarter|-1.12|1.12|   -2|  -1|\n",
      "|   Simon|4879320143|2022-09-05 11:23:59|    true|       1|     1|Simon2022-09-05 1...|September|2022|3rd quarter|-1.12|1.12|   -2|  -1|\n",
      "|  Sergio|4879320143|2022-09-05 11:23:59|    true|       1|     0|Sergio2022-09-05 ...|September|2022|3rd quarter|-1.12|1.12|   -2|  -1|\n",
      "| Pedrito|4879320143|2022-09-07 11:23:59|    true|       1|     0|Pedrito2022-09-07...|September|2022|3rd quarter|-1.12|1.12|   -2|  -1|\n",
      "|jJuenito|4879320143|2022-09-08 11:23:59|    true|       1|     0|jJuenito2022-09-0...|September|2022|3rd quarter|-1.12|1.12|   -2|  -1|\n",
      "|    Pepe|4879320143|2022-09-09 11:23:59|    true|       1|     0|Pepe2022-09-09 11...|September|2022|3rd quarter|-1.12|1.12|   -2|  -1|\n",
      "|   Liusa|4879320143|2022-09-05 11:23:59|    true|       1|     0|Liusa2022-09-05 1...|September|2022|3rd quarter|-1.12|1.12|   -2|  -1|\n",
      "+--------+----------+-------------------+--------+--------+------+--------------------+---------+----+-----------+-----+----+-----+----+\n",
      "\n"
     ]
    }
   ],
   "source": [
    "spark_df = spark_df.withColumn('ceil', F.ceil(spark_df.float))\n",
    "spark_df.show()"
   ]
  },
  {
   "cell_type": "markdown",
   "metadata": {},
   "source": [
    "### # 6. `concat_ws`: Concaténer avec un séparateur"
   ]
  },
  {
   "cell_type": "code",
   "execution_count": 294,
   "metadata": {},
   "outputs": [
    {
     "name": "stdout",
     "output_type": "stream",
     "text": [
      "+--------+----------+-------------------+--------+--------+------+--------------------+---------+----+-----------+-----+----+-----+----+--------------------+\n",
      "|    name|       dni|               date|is_human|constant|filter|              concat|    month|year|    quarter|float| abs|floor|ceil|           concat_ws|\n",
      "+--------+----------+-------------------+--------+--------+------+--------------------+---------+----+-----------+-----+----+-----+----+--------------------+\n",
      "|   Ricky|4879320143|2022-09-05 11:23:59|    true|       1|     0| Ricky2022-09-05 ...|September|2022|3rd quarter|-1.12|1.12|   -2|  -1| Ricky :) 4879320143|\n",
      "|   Simon|4879320143|2022-09-05 11:23:59|    true|       1|     1|Simon2022-09-05 1...|September|2022|3rd quarter|-1.12|1.12|   -2|  -1| Simon :) 4879320143|\n",
      "|  Sergio|4879320143|2022-09-05 11:23:59|    true|       1|     0|Sergio2022-09-05 ...|September|2022|3rd quarter|-1.12|1.12|   -2|  -1|Sergio :) 4879320143|\n",
      "| Pedrito|4879320143|2022-09-07 11:23:59|    true|       1|     0|Pedrito2022-09-07...|September|2022|3rd quarter|-1.12|1.12|   -2|  -1|Pedrito :) 487932...|\n",
      "|jJuenito|4879320143|2022-09-08 11:23:59|    true|       1|     0|jJuenito2022-09-0...|September|2022|3rd quarter|-1.12|1.12|   -2|  -1|jJuenito :) 48793...|\n",
      "|    Pepe|4879320143|2022-09-09 11:23:59|    true|       1|     0|Pepe2022-09-09 11...|September|2022|3rd quarter|-1.12|1.12|   -2|  -1|  Pepe :) 4879320143|\n",
      "|   Liusa|4879320143|2022-09-05 11:23:59|    true|       1|     0|Liusa2022-09-05 1...|September|2022|3rd quarter|-1.12|1.12|   -2|  -1| Liusa :) 4879320143|\n",
      "+--------+----------+-------------------+--------+--------+------+--------------------+---------+----+-----------+-----+----+-----+----+--------------------+\n",
      "\n"
     ]
    }
   ],
   "source": [
    "liste = [spark_df.name, spark_df.dni]\n",
    "\n",
    "spark_df = spark_df.withColumn('concat_ws', F.concat_ws(\" :) \", *liste))\n",
    "spark_df.show()"
   ]
  },
  {
   "cell_type": "markdown",
   "metadata": {},
   "source": [
    "### 7. `array_distinct`, `collect_list`, `collect_set`: Utiliser des fonctions d'agrégation sur des arrays"
   ]
  },
  {
   "cell_type": "code",
   "execution_count": 295,
   "metadata": {},
   "outputs": [
    {
     "name": "stdout",
     "output_type": "stream",
     "text": [
      "+---------------------------------+\n",
      "|array_distinct(collect_list(dni))|\n",
      "+---------------------------------+\n",
      "|                     [4879320143]|\n",
      "+---------------------------------+\n",
      "\n"
     ]
    }
   ],
   "source": [
    "spark_df.agg(F.array_distinct(F.collect_list('dni'))).show()"
   ]
  },
  {
   "cell_type": "code",
   "execution_count": 296,
   "metadata": {},
   "outputs": [
    {
     "name": "stdout",
     "output_type": "stream",
     "text": [
      "+--------------------+\n",
      "|  collect_list(name)|\n",
      "+--------------------+\n",
      "|[ Ricky, Simon, S...|\n",
      "+--------------------+\n",
      "\n"
     ]
    }
   ],
   "source": [
    "spark_df.agg(F.collect_list('name')).show()"
   ]
  },
  {
   "cell_type": "markdown",
   "metadata": {},
   "source": [
    "### # 8. `split` et `trim`: Nettoyer et diviser des chaînes"
   ]
  },
  {
   "cell_type": "code",
   "execution_count": 297,
   "metadata": {},
   "outputs": [
    {
     "name": "stdout",
     "output_type": "stream",
     "text": [
      "+--------+----------+-------------------+--------+--------+------+--------------------+---------+----+-----------+-----+----+-----+----+--------------------+----------+\n",
      "|    name|       dni|               date|is_human|constant|filter|              concat|    month|year|    quarter|float| abs|floor|ceil|           concat_ws|     split|\n",
      "+--------+----------+-------------------+--------+--------+------+--------------------+---------+----+-----------+-----+----+-----+----+--------------------+----------+\n",
      "|   Ricky|4879320143|2022-09-05 11:23:59|    true|       1|     0| Ricky2022-09-05 ...|September|2022|3rd quarter|-1.12|1.12|   -2|  -1| Ricky :) 4879320143|2022-09-05|\n",
      "|   Simon|4879320143|2022-09-05 11:23:59|    true|       1|     1|Simon2022-09-05 1...|September|2022|3rd quarter|-1.12|1.12|   -2|  -1| Simon :) 4879320143|2022-09-05|\n",
      "|  Sergio|4879320143|2022-09-05 11:23:59|    true|       1|     0|Sergio2022-09-05 ...|September|2022|3rd quarter|-1.12|1.12|   -2|  -1|Sergio :) 4879320143|2022-09-05|\n",
      "| Pedrito|4879320143|2022-09-07 11:23:59|    true|       1|     0|Pedrito2022-09-07...|September|2022|3rd quarter|-1.12|1.12|   -2|  -1|Pedrito :) 487932...|2022-09-07|\n",
      "|jJuenito|4879320143|2022-09-08 11:23:59|    true|       1|     0|jJuenito2022-09-0...|September|2022|3rd quarter|-1.12|1.12|   -2|  -1|jJuenito :) 48793...|2022-09-08|\n",
      "|    Pepe|4879320143|2022-09-09 11:23:59|    true|       1|     0|Pepe2022-09-09 11...|September|2022|3rd quarter|-1.12|1.12|   -2|  -1|  Pepe :) 4879320143|2022-09-09|\n",
      "|   Liusa|4879320143|2022-09-05 11:23:59|    true|       1|     0|Liusa2022-09-05 1...|September|2022|3rd quarter|-1.12|1.12|   -2|  -1| Liusa :) 4879320143|2022-09-05|\n",
      "+--------+----------+-------------------+--------+--------+------+--------------------+---------+----+-----------+-----+----+-----+----+--------------------+----------+\n",
      "\n"
     ]
    }
   ],
   "source": [
    "spark_df = spark_df.withColumn('split', F.split('date', \" \").getItem(0))\n",
    "spark_df.show()"
   ]
  },
  {
   "cell_type": "code",
   "execution_count": 298,
   "metadata": {},
   "outputs": [
    {
     "name": "stdout",
     "output_type": "stream",
     "text": [
      "+--------+----------+-------------------+--------+--------+------+--------------------+---------+----+-----------+-----+----+-----+----+--------------------+----------+-------+\n",
      "|    name|       dni|               date|is_human|constant|filter|              concat|    month|year|    quarter|float| abs|floor|ceil|           concat_ws|     split| a_trim|\n",
      "+--------+----------+-------------------+--------+--------+------+--------------------+---------+----+-----------+-----+----+-----+----+--------------------+----------+-------+\n",
      "|   Ricky|4879320143|2022-09-05 11:23:59|    true|       1|     0| Ricky2022-09-05 ...|September|2022|3rd quarter|-1.12|1.12|   -2|  -1| Ricky :) 4879320143|2022-09-05|  m p  |\n",
      "|   Simon|4879320143|2022-09-05 11:23:59|    true|       1|     1|Simon2022-09-05 1...|September|2022|3rd quarter|-1.12|1.12|   -2|  -1| Simon :) 4879320143|2022-09-05|  m p  |\n",
      "|  Sergio|4879320143|2022-09-05 11:23:59|    true|       1|     0|Sergio2022-09-05 ...|September|2022|3rd quarter|-1.12|1.12|   -2|  -1|Sergio :) 4879320143|2022-09-05|  m p  |\n",
      "| Pedrito|4879320143|2022-09-07 11:23:59|    true|       1|     0|Pedrito2022-09-07...|September|2022|3rd quarter|-1.12|1.12|   -2|  -1|Pedrito :) 487932...|2022-09-07|  m p  |\n",
      "|jJuenito|4879320143|2022-09-08 11:23:59|    true|       1|     0|jJuenito2022-09-0...|September|2022|3rd quarter|-1.12|1.12|   -2|  -1|jJuenito :) 48793...|2022-09-08|  m p  |\n",
      "|    Pepe|4879320143|2022-09-09 11:23:59|    true|       1|     0|Pepe2022-09-09 11...|September|2022|3rd quarter|-1.12|1.12|   -2|  -1|  Pepe :) 4879320143|2022-09-09|  m p  |\n",
      "|   Liusa|4879320143|2022-09-05 11:23:59|    true|       1|     0|Liusa2022-09-05 1...|September|2022|3rd quarter|-1.12|1.12|   -2|  -1| Liusa :) 4879320143|2022-09-05|  m p  |\n",
      "+--------+----------+-------------------+--------+--------+------+--------------------+---------+----+-----------+-----+----+-----+----+--------------------+----------+-------+\n",
      "\n"
     ]
    }
   ],
   "source": [
    "spark_df = spark_df.withColumn(\"a_trim\", F.lit(\"  m p  \"))\n",
    "spark_df.show()"
   ]
  },
  {
   "cell_type": "code",
   "execution_count": 299,
   "metadata": {},
   "outputs": [
    {
     "name": "stdout",
     "output_type": "stream",
     "text": [
      "+--------+----------+-------------------+--------+--------+------+--------------------+---------+----+-----------+-----+----+-----+----+--------------------+----------+-------+----+\n",
      "|    name|       dni|               date|is_human|constant|filter|              concat|    month|year|    quarter|float| abs|floor|ceil|           concat_ws|     split| a_trim|trim|\n",
      "+--------+----------+-------------------+--------+--------+------+--------------------+---------+----+-----------+-----+----+-----+----+--------------------+----------+-------+----+\n",
      "|   Ricky|4879320143|2022-09-05 11:23:59|    true|       1|     0| Ricky2022-09-05 ...|September|2022|3rd quarter|-1.12|1.12|   -2|  -1| Ricky :) 4879320143|2022-09-05|  m p  | m p|\n",
      "|   Simon|4879320143|2022-09-05 11:23:59|    true|       1|     1|Simon2022-09-05 1...|September|2022|3rd quarter|-1.12|1.12|   -2|  -1| Simon :) 4879320143|2022-09-05|  m p  | m p|\n",
      "|  Sergio|4879320143|2022-09-05 11:23:59|    true|       1|     0|Sergio2022-09-05 ...|September|2022|3rd quarter|-1.12|1.12|   -2|  -1|Sergio :) 4879320143|2022-09-05|  m p  | m p|\n",
      "| Pedrito|4879320143|2022-09-07 11:23:59|    true|       1|     0|Pedrito2022-09-07...|September|2022|3rd quarter|-1.12|1.12|   -2|  -1|Pedrito :) 487932...|2022-09-07|  m p  | m p|\n",
      "|jJuenito|4879320143|2022-09-08 11:23:59|    true|       1|     0|jJuenito2022-09-0...|September|2022|3rd quarter|-1.12|1.12|   -2|  -1|jJuenito :) 48793...|2022-09-08|  m p  | m p|\n",
      "|    Pepe|4879320143|2022-09-09 11:23:59|    true|       1|     0|Pepe2022-09-09 11...|September|2022|3rd quarter|-1.12|1.12|   -2|  -1|  Pepe :) 4879320143|2022-09-09|  m p  | m p|\n",
      "|   Liusa|4879320143|2022-09-05 11:23:59|    true|       1|     0|Liusa2022-09-05 1...|September|2022|3rd quarter|-1.12|1.12|   -2|  -1| Liusa :) 4879320143|2022-09-05|  m p  | m p|\n",
      "+--------+----------+-------------------+--------+--------+------+--------------------+---------+----+-----------+-----+----+-----+----+--------------------+----------+-------+----+\n",
      "\n"
     ]
    }
   ],
   "source": [
    "spark_df = spark_df.withColumn('trim', F.trim('a_trim'))\n",
    "spark_df.show()"
   ]
  },
  {
   "cell_type": "code",
   "execution_count": 300,
   "metadata": {},
   "outputs": [
    {
     "name": "stdout",
     "output_type": "stream",
     "text": [
      "+--------+----------+-------------------+--------+--------+------+--------------------+---------+----+-----------+-----+----+-----+----+--------------------+----------+-------+----+\n",
      "|    name|       dni|               date|is_human|constant|filter|              concat|    month|year|    quarter|float| abs|floor|ceil|           concat_ws|     split| a_trim|trim|\n",
      "+--------+----------+-------------------+--------+--------+------+--------------------+---------+----+-----------+-----+----+-----+----+--------------------+----------+-------+----+\n",
      "|   Ricky|4879320143|2022-09-05 11:23:59|    true|       1|     0| Ricky2022-09-05 ...|September|2022|3rd quarter|-1.12|1.12|   -2|  -1| Ricky :) 4879320143|2022-09-05|  m p  | m p|\n",
      "|   Simon|4879320143|2022-09-05 11:23:59|    true|       1|     1|Simon2022-09-05 1...|September|2022|3rd quarter|-1.12|1.12|   -2|  -1| Simon :) 4879320143|2022-09-05|  m p  | m p|\n",
      "|  Sergio|4879320143|2022-09-05 11:23:59|    true|       1|     0|Sergio2022-09-05 ...|September|2022|3rd quarter|-1.12|1.12|   -2|  -1|Sergio :) 4879320143|2022-09-05|  m p  | m p|\n",
      "| Pedrito|4879320143|2022-09-07 11:23:59|    true|       1|     0|Pedrito2022-09-07...|September|2022|3rd quarter|-1.12|1.12|   -2|  -1|Pedrito :) 487932...|2022-09-07|  m p  | m p|\n",
      "|jJuenito|4879320143|2022-09-08 11:23:59|    true|       1|     0|jJuenito2022-09-0...|September|2022|3rd quarter|-1.12|1.12|   -2|  -1|jJuenito :) 48793...|2022-09-08|  m p  | m p|\n",
      "|    Pepe|4879320143|2022-09-09 11:23:59|    true|       1|     0|Pepe2022-09-09 11...|September|2022|3rd quarter|-1.12|1.12|   -2|  -1|  Pepe :) 4879320143|2022-09-09|  m p  | m p|\n",
      "|   Liusa|4879320143|2022-09-05 11:23:59|    true|       1|     0|Liusa2022-09-05 1...|September|2022|3rd quarter|-1.12|1.12|   -2|  -1| Liusa :) 4879320143|2022-09-05|  m p  | m p|\n",
      "+--------+----------+-------------------+--------+--------+------+--------------------+---------+----+-----------+-----+----+-----+----+--------------------+----------+-------+----+\n",
      "\n"
     ]
    }
   ],
   "source": [
    "spark_df = spark_df.withColumn('name', F.trim('name'))\n",
    "spark_df.show()"
   ]
  },
  {
   "cell_type": "markdown",
   "metadata": {},
   "source": [
    "### 9. `explode`: Diviser une colonne de tableau en lignes distinctes"
   ]
  },
  {
   "cell_type": "code",
   "execution_count": 301,
   "metadata": {},
   "outputs": [
    {
     "name": "stdout",
     "output_type": "stream",
     "text": [
      "+--------+----------+-------------------+--------+--------+------+--------------------+---------+----+-----------+-----+----+-----+----+--------------------+----------+-------+----+----------+\n",
      "|    name|       dni|               date|is_human|constant|filter|              concat|    month|year|    quarter|float| abs|floor|ceil|           concat_ws|     split| a_trim|trim|array name|\n",
      "+--------+----------+-------------------+--------+--------+------+--------------------+---------+----+-----------+-----+----+-----+----+--------------------+----------+-------+----+----------+\n",
      "|   Ricky|4879320143|2022-09-05 11:23:59|    true|       1|     0| Ricky2022-09-05 ...|September|2022|3rd quarter|-1.12|1.12|   -2|  -1| Ricky :) 4879320143|2022-09-05|  m p  | m p|   [Ricky]|\n",
      "|   Simon|4879320143|2022-09-05 11:23:59|    true|       1|     1|Simon2022-09-05 1...|September|2022|3rd quarter|-1.12|1.12|   -2|  -1| Simon :) 4879320143|2022-09-05|  m p  | m p|   [Simon]|\n",
      "|  Sergio|4879320143|2022-09-05 11:23:59|    true|       1|     0|Sergio2022-09-05 ...|September|2022|3rd quarter|-1.12|1.12|   -2|  -1|Sergio :) 4879320143|2022-09-05|  m p  | m p|  [Sergio]|\n",
      "| Pedrito|4879320143|2022-09-07 11:23:59|    true|       1|     0|Pedrito2022-09-07...|September|2022|3rd quarter|-1.12|1.12|   -2|  -1|Pedrito :) 487932...|2022-09-07|  m p  | m p| [Pedrito]|\n",
      "|jJuenito|4879320143|2022-09-08 11:23:59|    true|       1|     0|jJuenito2022-09-0...|September|2022|3rd quarter|-1.12|1.12|   -2|  -1|jJuenito :) 48793...|2022-09-08|  m p  | m p|[jJuenito]|\n",
      "|    Pepe|4879320143|2022-09-09 11:23:59|    true|       1|     0|Pepe2022-09-09 11...|September|2022|3rd quarter|-1.12|1.12|   -2|  -1|  Pepe :) 4879320143|2022-09-09|  m p  | m p|    [Pepe]|\n",
      "|   Liusa|4879320143|2022-09-05 11:23:59|    true|       1|     0|Liusa2022-09-05 1...|September|2022|3rd quarter|-1.12|1.12|   -2|  -1| Liusa :) 4879320143|2022-09-05|  m p  | m p|   [Liusa]|\n",
      "+--------+----------+-------------------+--------+--------+------+--------------------+---------+----+-----------+-----+----+-----+----+--------------------+----------+-------+----+----------+\n",
      "\n"
     ]
    }
   ],
   "source": [
    "spark_df = spark_df.withColumn(\"array name\", F.array(\"name\"))\n",
    "spark_df.show()"
   ]
  },
  {
   "cell_type": "code",
   "execution_count": 302,
   "metadata": {},
   "outputs": [
    {
     "name": "stdout",
     "output_type": "stream",
     "text": [
      "+--------+----------+-------------------+--------+--------+------+--------------------+---------+----+-----------+-----+----+-----+----+--------------------+----------+-------+----+----------+--------+\n",
      "|    name|       dni|               date|is_human|constant|filter|              concat|    month|year|    quarter|float| abs|floor|ceil|           concat_ws|     split| a_trim|trim|array name| explode|\n",
      "+--------+----------+-------------------+--------+--------+------+--------------------+---------+----+-----------+-----+----+-----+----+--------------------+----------+-------+----+----------+--------+\n",
      "|   Ricky|4879320143|2022-09-05 11:23:59|    true|       1|     0| Ricky2022-09-05 ...|September|2022|3rd quarter|-1.12|1.12|   -2|  -1| Ricky :) 4879320143|2022-09-05|  m p  | m p|   [Ricky]|   Ricky|\n",
      "|   Simon|4879320143|2022-09-05 11:23:59|    true|       1|     1|Simon2022-09-05 1...|September|2022|3rd quarter|-1.12|1.12|   -2|  -1| Simon :) 4879320143|2022-09-05|  m p  | m p|   [Simon]|   Simon|\n",
      "|  Sergio|4879320143|2022-09-05 11:23:59|    true|       1|     0|Sergio2022-09-05 ...|September|2022|3rd quarter|-1.12|1.12|   -2|  -1|Sergio :) 4879320143|2022-09-05|  m p  | m p|  [Sergio]|  Sergio|\n",
      "| Pedrito|4879320143|2022-09-07 11:23:59|    true|       1|     0|Pedrito2022-09-07...|September|2022|3rd quarter|-1.12|1.12|   -2|  -1|Pedrito :) 487932...|2022-09-07|  m p  | m p| [Pedrito]| Pedrito|\n",
      "|jJuenito|4879320143|2022-09-08 11:23:59|    true|       1|     0|jJuenito2022-09-0...|September|2022|3rd quarter|-1.12|1.12|   -2|  -1|jJuenito :) 48793...|2022-09-08|  m p  | m p|[jJuenito]|jJuenito|\n",
      "|    Pepe|4879320143|2022-09-09 11:23:59|    true|       1|     0|Pepe2022-09-09 11...|September|2022|3rd quarter|-1.12|1.12|   -2|  -1|  Pepe :) 4879320143|2022-09-09|  m p  | m p|    [Pepe]|    Pepe|\n",
      "|   Liusa|4879320143|2022-09-05 11:23:59|    true|       1|     0|Liusa2022-09-05 1...|September|2022|3rd quarter|-1.12|1.12|   -2|  -1| Liusa :) 4879320143|2022-09-05|  m p  | m p|   [Liusa]|   Liusa|\n",
      "+--------+----------+-------------------+--------+--------+------+--------------------+---------+----+-----------+-----+----+-----+----+--------------------+----------+-------+----+----------+--------+\n",
      "\n"
     ]
    }
   ],
   "source": [
    "spark_df = spark_df.withColumn(\"explode\", F.explode(\"array name\"))\n",
    "spark_df.show()"
   ]
  },
  {
   "cell_type": "markdown",
   "metadata": {},
   "source": [
    "### 10. `lower`: Convertir des chaînes en minuscules"
   ]
  },
  {
   "cell_type": "code",
   "execution_count": 303,
   "metadata": {},
   "outputs": [
    {
     "name": "stdout",
     "output_type": "stream",
     "text": [
      "+--------+----------+-------------------+--------+--------+------+--------------------+---------+----+-----------+-----+----+-----+----+--------------------+----------+-------+----+----------+--------+\n",
      "|    name|       dni|               date|is_human|constant|filter|              concat|    month|year|    quarter|float| abs|floor|ceil|           concat_ws|     split| a_trim|trim|array name| explode|\n",
      "+--------+----------+-------------------+--------+--------+------+--------------------+---------+----+-----------+-----+----+-----+----+--------------------+----------+-------+----+----------+--------+\n",
      "|   ricky|4879320143|2022-09-05 11:23:59|    true|       1|     0| Ricky2022-09-05 ...|September|2022|3rd quarter|-1.12|1.12|   -2|  -1| Ricky :) 4879320143|2022-09-05|  m p  | m p|   [Ricky]|   Ricky|\n",
      "|   simon|4879320143|2022-09-05 11:23:59|    true|       1|     1|Simon2022-09-05 1...|September|2022|3rd quarter|-1.12|1.12|   -2|  -1| Simon :) 4879320143|2022-09-05|  m p  | m p|   [Simon]|   Simon|\n",
      "|  sergio|4879320143|2022-09-05 11:23:59|    true|       1|     0|Sergio2022-09-05 ...|September|2022|3rd quarter|-1.12|1.12|   -2|  -1|Sergio :) 4879320143|2022-09-05|  m p  | m p|  [Sergio]|  Sergio|\n",
      "| pedrito|4879320143|2022-09-07 11:23:59|    true|       1|     0|Pedrito2022-09-07...|September|2022|3rd quarter|-1.12|1.12|   -2|  -1|Pedrito :) 487932...|2022-09-07|  m p  | m p| [Pedrito]| Pedrito|\n",
      "|jjuenito|4879320143|2022-09-08 11:23:59|    true|       1|     0|jJuenito2022-09-0...|September|2022|3rd quarter|-1.12|1.12|   -2|  -1|jJuenito :) 48793...|2022-09-08|  m p  | m p|[jJuenito]|jJuenito|\n",
      "|    pepe|4879320143|2022-09-09 11:23:59|    true|       1|     0|Pepe2022-09-09 11...|September|2022|3rd quarter|-1.12|1.12|   -2|  -1|  Pepe :) 4879320143|2022-09-09|  m p  | m p|    [Pepe]|    Pepe|\n",
      "|   liusa|4879320143|2022-09-05 11:23:59|    true|       1|     0|Liusa2022-09-05 1...|September|2022|3rd quarter|-1.12|1.12|   -2|  -1| Liusa :) 4879320143|2022-09-05|  m p  | m p|   [Liusa]|   Liusa|\n",
      "+--------+----------+-------------------+--------+--------+------+--------------------+---------+----+-----------+-----+----+-----+----+--------------------+----------+-------+----+----------+--------+\n",
      "\n"
     ]
    }
   ],
   "source": [
    "spark_df = spark_df.withColumn(\"name\", F.lower(F.col(\"name\")))\n",
    "spark_df.show()"
   ]
  },
  {
   "cell_type": "markdown",
   "metadata": {},
   "source": [
    "### 11. `select`: Sélectionner des colonnes spécifiques"
   ]
  },
  {
   "cell_type": "code",
   "execution_count": 304,
   "metadata": {},
   "outputs": [
    {
     "name": "stdout",
     "output_type": "stream",
     "text": [
      "+--------+----------+\n",
      "|    name|       dni|\n",
      "+--------+----------+\n",
      "|   ricky|4879320143|\n",
      "|   simon|4879320143|\n",
      "|  sergio|4879320143|\n",
      "| pedrito|4879320143|\n",
      "|jjuenito|4879320143|\n",
      "|    pepe|4879320143|\n",
      "|   liusa|4879320143|\n",
      "+--------+----------+\n",
      "\n"
     ]
    }
   ],
   "source": [
    "spark_df.select(F.col('name'), F.col('dni')).show()"
   ]
  },
  {
   "cell_type": "markdown",
   "metadata": {},
   "source": [
    "### 12. `withColumn`: Créer une nouvelle colonne"
   ]
  },
  {
   "cell_type": "code",
   "execution_count": 305,
   "metadata": {},
   "outputs": [
    {
     "name": "stdout",
     "output_type": "stream",
     "text": [
      "+--------+----------+-------------------+--------+--------+------+--------------------+---------+----+-----------+-----+----+-----+----+--------------------+----------+-------+----+----------+--------+----------+\n",
      "|    name|       dni|               date|is_human|constant|filter|              concat|    month|year|    quarter|float| abs|floor|ceil|           concat_ws|     split| a_trim|trim|array name| explode|name_upper|\n",
      "+--------+----------+-------------------+--------+--------+------+--------------------+---------+----+-----------+-----+----+-----+----+--------------------+----------+-------+----+----------+--------+----------+\n",
      "|   ricky|4879320143|2022-09-05 11:23:59|    true|       1|     0| Ricky2022-09-05 ...|September|2022|3rd quarter|-1.12|1.12|   -2|  -1| Ricky :) 4879320143|2022-09-05|  m p  | m p|   [Ricky]|   Ricky|     RICKY|\n",
      "|   simon|4879320143|2022-09-05 11:23:59|    true|       1|     1|Simon2022-09-05 1...|September|2022|3rd quarter|-1.12|1.12|   -2|  -1| Simon :) 4879320143|2022-09-05|  m p  | m p|   [Simon]|   Simon|     SIMON|\n",
      "|  sergio|4879320143|2022-09-05 11:23:59|    true|       1|     0|Sergio2022-09-05 ...|September|2022|3rd quarter|-1.12|1.12|   -2|  -1|Sergio :) 4879320143|2022-09-05|  m p  | m p|  [Sergio]|  Sergio|    SERGIO|\n",
      "| pedrito|4879320143|2022-09-07 11:23:59|    true|       1|     0|Pedrito2022-09-07...|September|2022|3rd quarter|-1.12|1.12|   -2|  -1|Pedrito :) 487932...|2022-09-07|  m p  | m p| [Pedrito]| Pedrito|   PEDRITO|\n",
      "|jjuenito|4879320143|2022-09-08 11:23:59|    true|       1|     0|jJuenito2022-09-0...|September|2022|3rd quarter|-1.12|1.12|   -2|  -1|jJuenito :) 48793...|2022-09-08|  m p  | m p|[jJuenito]|jJuenito|  JJUENITO|\n",
      "|    pepe|4879320143|2022-09-09 11:23:59|    true|       1|     0|Pepe2022-09-09 11...|September|2022|3rd quarter|-1.12|1.12|   -2|  -1|  Pepe :) 4879320143|2022-09-09|  m p  | m p|    [Pepe]|    Pepe|      PEPE|\n",
      "|   liusa|4879320143|2022-09-05 11:23:59|    true|       1|     0|Liusa2022-09-05 1...|September|2022|3rd quarter|-1.12|1.12|   -2|  -1| Liusa :) 4879320143|2022-09-05|  m p  | m p|   [Liusa]|   Liusa|     LIUSA|\n",
      "+--------+----------+-------------------+--------+--------+------+--------------------+---------+----+-----------+-----+----+-----+----+--------------------+----------+-------+----+----------+--------+----------+\n",
      "\n"
     ]
    }
   ],
   "source": [
    "spark_df = spark_df.withColumn(\"name_upper\", F.upper(F.col(\"name\")))\n",
    "spark_df.show()"
   ]
  },
  {
   "cell_type": "markdown",
   "metadata": {},
   "source": [
    "### 13. `withColumnRenamed`: Renommer une colonne"
   ]
  },
  {
   "cell_type": "code",
   "execution_count": 306,
   "metadata": {},
   "outputs": [
    {
     "name": "stdout",
     "output_type": "stream",
     "text": [
      "+--------+----------+-------------------+--------+--------+------+--------------------+---------+----+-----------+-----+----+-----+----+--------------------+----------+-------+----+----------+--------+----------+\n",
      "|    NAME|       dni|               date|is_human|constant|filter|              concat|    month|year|    quarter|float| abs|floor|ceil|           concat_ws|     split| a_trim|trim|array name| explode|name_upper|\n",
      "+--------+----------+-------------------+--------+--------+------+--------------------+---------+----+-----------+-----+----+-----+----+--------------------+----------+-------+----+----------+--------+----------+\n",
      "|   ricky|4879320143|2022-09-05 11:23:59|    true|       1|     0| Ricky2022-09-05 ...|September|2022|3rd quarter|-1.12|1.12|   -2|  -1| Ricky :) 4879320143|2022-09-05|  m p  | m p|   [Ricky]|   Ricky|     RICKY|\n",
      "|   simon|4879320143|2022-09-05 11:23:59|    true|       1|     1|Simon2022-09-05 1...|September|2022|3rd quarter|-1.12|1.12|   -2|  -1| Simon :) 4879320143|2022-09-05|  m p  | m p|   [Simon]|   Simon|     SIMON|\n",
      "|  sergio|4879320143|2022-09-05 11:23:59|    true|       1|     0|Sergio2022-09-05 ...|September|2022|3rd quarter|-1.12|1.12|   -2|  -1|Sergio :) 4879320143|2022-09-05|  m p  | m p|  [Sergio]|  Sergio|    SERGIO|\n",
      "| pedrito|4879320143|2022-09-07 11:23:59|    true|       1|     0|Pedrito2022-09-07...|September|2022|3rd quarter|-1.12|1.12|   -2|  -1|Pedrito :) 487932...|2022-09-07|  m p  | m p| [Pedrito]| Pedrito|   PEDRITO|\n",
      "|jjuenito|4879320143|2022-09-08 11:23:59|    true|       1|     0|jJuenito2022-09-0...|September|2022|3rd quarter|-1.12|1.12|   -2|  -1|jJuenito :) 48793...|2022-09-08|  m p  | m p|[jJuenito]|jJuenito|  JJUENITO|\n",
      "|    pepe|4879320143|2022-09-09 11:23:59|    true|       1|     0|Pepe2022-09-09 11...|September|2022|3rd quarter|-1.12|1.12|   -2|  -1|  Pepe :) 4879320143|2022-09-09|  m p  | m p|    [Pepe]|    Pepe|      PEPE|\n",
      "|   liusa|4879320143|2022-09-05 11:23:59|    true|       1|     0|Liusa2022-09-05 1...|September|2022|3rd quarter|-1.12|1.12|   -2|  -1| Liusa :) 4879320143|2022-09-05|  m p  | m p|   [Liusa]|   Liusa|     LIUSA|\n",
      "+--------+----------+-------------------+--------+--------+------+--------------------+---------+----+-----------+-----+----+-----+----+--------------------+----------+-------+----+----------+--------+----------+\n",
      "\n"
     ]
    }
   ],
   "source": [
    "spark_df = spark_df.withColumnRenamed('name', 'NAME')\n",
    "spark_df.show()"
   ]
  },
  {
   "cell_type": "code",
   "execution_count": 307,
   "metadata": {},
   "outputs": [
    {
     "name": "stdout",
     "output_type": "stream",
     "text": [
      "+--------+----------+-------------------+--------+--------+------+--------------------+---------+----+-----------+-----+----+-----+----+--------------------+----------+-------+----+----------+--------+----------+\n",
      "|    name|       dni|               date|is_human|constant|filter|              concat|    month|year|    quarter|float| abs|floor|ceil|           concat_ws|     split| a_trim|trim|array name| explode|name_upper|\n",
      "+--------+----------+-------------------+--------+--------+------+--------------------+---------+----+-----------+-----+----+-----+----+--------------------+----------+-------+----+----------+--------+----------+\n",
      "|   ricky|4879320143|2022-09-05 11:23:59|    true|       1|     0| Ricky2022-09-05 ...|September|2022|3rd quarter|-1.12|1.12|   -2|  -1| Ricky :) 4879320143|2022-09-05|  m p  | m p|   [Ricky]|   Ricky|     RICKY|\n",
      "|   simon|4879320143|2022-09-05 11:23:59|    true|       1|     1|Simon2022-09-05 1...|September|2022|3rd quarter|-1.12|1.12|   -2|  -1| Simon :) 4879320143|2022-09-05|  m p  | m p|   [Simon]|   Simon|     SIMON|\n",
      "|  sergio|4879320143|2022-09-05 11:23:59|    true|       1|     0|Sergio2022-09-05 ...|September|2022|3rd quarter|-1.12|1.12|   -2|  -1|Sergio :) 4879320143|2022-09-05|  m p  | m p|  [Sergio]|  Sergio|    SERGIO|\n",
      "| pedrito|4879320143|2022-09-07 11:23:59|    true|       1|     0|Pedrito2022-09-07...|September|2022|3rd quarter|-1.12|1.12|   -2|  -1|Pedrito :) 487932...|2022-09-07|  m p  | m p| [Pedrito]| Pedrito|   PEDRITO|\n",
      "|jjuenito|4879320143|2022-09-08 11:23:59|    true|       1|     0|jJuenito2022-09-0...|September|2022|3rd quarter|-1.12|1.12|   -2|  -1|jJuenito :) 48793...|2022-09-08|  m p  | m p|[jJuenito]|jJuenito|  JJUENITO|\n",
      "|    pepe|4879320143|2022-09-09 11:23:59|    true|       1|     0|Pepe2022-09-09 11...|September|2022|3rd quarter|-1.12|1.12|   -2|  -1|  Pepe :) 4879320143|2022-09-09|  m p  | m p|    [Pepe]|    Pepe|      PEPE|\n",
      "|   liusa|4879320143|2022-09-05 11:23:59|    true|       1|     0|Liusa2022-09-05 1...|September|2022|3rd quarter|-1.12|1.12|   -2|  -1| Liusa :) 4879320143|2022-09-05|  m p  | m p|   [Liusa]|   Liusa|     LIUSA|\n",
      "+--------+----------+-------------------+--------+--------+------+--------------------+---------+----+-----------+-----+----+-----+----+--------------------+----------+-------+----+----------+--------+----------+\n",
      "\n"
     ]
    }
   ],
   "source": [
    "spark_df = spark_df.withColumnRenamed('NAME', 'name')\n",
    "spark_df.show()"
   ]
  },
  {
   "cell_type": "markdown",
   "metadata": {},
   "source": [
    "### 14. `drop`: Supprimer une colonne"
   ]
  },
  {
   "cell_type": "code",
   "execution_count": 308,
   "metadata": {},
   "outputs": [
    {
     "name": "stdout",
     "output_type": "stream",
     "text": [
      "+--------+----------+-------------------+--------+--------+------+--------------------+---------+----+-----------+-----+----+-----+----+--------------------+----------+----+----------+--------+----------+\n",
      "|    name|       dni|               date|is_human|constant|filter|              concat|    month|year|    quarter|float| abs|floor|ceil|           concat_ws|     split|trim|array name| explode|name_upper|\n",
      "+--------+----------+-------------------+--------+--------+------+--------------------+---------+----+-----------+-----+----+-----+----+--------------------+----------+----+----------+--------+----------+\n",
      "|   ricky|4879320143|2022-09-05 11:23:59|    true|       1|     0| Ricky2022-09-05 ...|September|2022|3rd quarter|-1.12|1.12|   -2|  -1| Ricky :) 4879320143|2022-09-05| m p|   [Ricky]|   Ricky|     RICKY|\n",
      "|   simon|4879320143|2022-09-05 11:23:59|    true|       1|     1|Simon2022-09-05 1...|September|2022|3rd quarter|-1.12|1.12|   -2|  -1| Simon :) 4879320143|2022-09-05| m p|   [Simon]|   Simon|     SIMON|\n",
      "|  sergio|4879320143|2022-09-05 11:23:59|    true|       1|     0|Sergio2022-09-05 ...|September|2022|3rd quarter|-1.12|1.12|   -2|  -1|Sergio :) 4879320143|2022-09-05| m p|  [Sergio]|  Sergio|    SERGIO|\n",
      "| pedrito|4879320143|2022-09-07 11:23:59|    true|       1|     0|Pedrito2022-09-07...|September|2022|3rd quarter|-1.12|1.12|   -2|  -1|Pedrito :) 487932...|2022-09-07| m p| [Pedrito]| Pedrito|   PEDRITO|\n",
      "|jjuenito|4879320143|2022-09-08 11:23:59|    true|       1|     0|jJuenito2022-09-0...|September|2022|3rd quarter|-1.12|1.12|   -2|  -1|jJuenito :) 48793...|2022-09-08| m p|[jJuenito]|jJuenito|  JJUENITO|\n",
      "|    pepe|4879320143|2022-09-09 11:23:59|    true|       1|     0|Pepe2022-09-09 11...|September|2022|3rd quarter|-1.12|1.12|   -2|  -1|  Pepe :) 4879320143|2022-09-09| m p|    [Pepe]|    Pepe|      PEPE|\n",
      "|   liusa|4879320143|2022-09-05 11:23:59|    true|       1|     0|Liusa2022-09-05 1...|September|2022|3rd quarter|-1.12|1.12|   -2|  -1| Liusa :) 4879320143|2022-09-05| m p|   [Liusa]|   Liusa|     LIUSA|\n",
      "+--------+----------+-------------------+--------+--------+------+--------------------+---------+----+-----------+-----+----+-----+----+--------------------+----------+----+----------+--------+----------+\n",
      "\n"
     ]
    }
   ],
   "source": [
    "spark_df = spark_df.drop(spark_df.a_trim)\n",
    "spark_df.show()"
   ]
  },
  {
   "cell_type": "markdown",
   "metadata": {},
   "source": [
    "### 15. `join`: Joindre deux DataFrames (ici nous réutilisons le DataFrame lui-même pour l'exemple)"
   ]
  },
  {
   "cell_type": "code",
   "execution_count": 309,
   "metadata": {},
   "outputs": [
    {
     "name": "stdout",
     "output_type": "stream",
     "text": [
      "+--------+----------+-------------------+--------+--------+------+--------------------+---------+----+-----------+-----+----+-----+----+--------------------+----------+----+----------+--------+----------+--------+----------+-------------------+--------+--------+------+--------------------+---------+----+-----------+-----+----+-----+----+--------------------+----------+----+----------+--------+----------+\n",
      "|    name|       dni|               date|is_human|constant|filter|              concat|    month|year|    quarter|float| abs|floor|ceil|           concat_ws|     split|trim|array name| explode|name_upper|    name|       dni|               date|is_human|constant|filter|              concat|    month|year|    quarter|float| abs|floor|ceil|           concat_ws|     split|trim|array name| explode|name_upper|\n",
      "+--------+----------+-------------------+--------+--------+------+--------------------+---------+----+-----------+-----+----+-----+----+--------------------+----------+----+----------+--------+----------+--------+----------+-------------------+--------+--------+------+--------------------+---------+----+-----------+-----+----+-----+----+--------------------+----------+----+----------+--------+----------+\n",
      "|   ricky|4879320143|2022-09-05 11:23:59|    true|       1|     0| Ricky2022-09-05 ...|September|2022|3rd quarter|-1.12|1.12|   -2|  -1| Ricky :) 4879320143|2022-09-05| m p|   [Ricky]|   Ricky|     RICKY|   ricky|4879320143|2022-09-05 11:23:59|    true|       1|     0| Ricky2022-09-05 ...|September|2022|3rd quarter|-1.12|1.12|   -2|  -1| Ricky :) 4879320143|2022-09-05| m p|   [Ricky]|   Ricky|     RICKY|\n",
      "|   simon|4879320143|2022-09-05 11:23:59|    true|       1|     1|Simon2022-09-05 1...|September|2022|3rd quarter|-1.12|1.12|   -2|  -1| Simon :) 4879320143|2022-09-05| m p|   [Simon]|   Simon|     SIMON|   simon|4879320143|2022-09-05 11:23:59|    true|       1|     1|Simon2022-09-05 1...|September|2022|3rd quarter|-1.12|1.12|   -2|  -1| Simon :) 4879320143|2022-09-05| m p|   [Simon]|   Simon|     SIMON|\n",
      "|  sergio|4879320143|2022-09-05 11:23:59|    true|       1|     0|Sergio2022-09-05 ...|September|2022|3rd quarter|-1.12|1.12|   -2|  -1|Sergio :) 4879320143|2022-09-05| m p|  [Sergio]|  Sergio|    SERGIO|  sergio|4879320143|2022-09-05 11:23:59|    true|       1|     0|Sergio2022-09-05 ...|September|2022|3rd quarter|-1.12|1.12|   -2|  -1|Sergio :) 4879320143|2022-09-05| m p|  [Sergio]|  Sergio|    SERGIO|\n",
      "| pedrito|4879320143|2022-09-07 11:23:59|    true|       1|     0|Pedrito2022-09-07...|September|2022|3rd quarter|-1.12|1.12|   -2|  -1|Pedrito :) 487932...|2022-09-07| m p| [Pedrito]| Pedrito|   PEDRITO| pedrito|4879320143|2022-09-07 11:23:59|    true|       1|     0|Pedrito2022-09-07...|September|2022|3rd quarter|-1.12|1.12|   -2|  -1|Pedrito :) 487932...|2022-09-07| m p| [Pedrito]| Pedrito|   PEDRITO|\n",
      "|jjuenito|4879320143|2022-09-08 11:23:59|    true|       1|     0|jJuenito2022-09-0...|September|2022|3rd quarter|-1.12|1.12|   -2|  -1|jJuenito :) 48793...|2022-09-08| m p|[jJuenito]|jJuenito|  JJUENITO|jjuenito|4879320143|2022-09-08 11:23:59|    true|       1|     0|jJuenito2022-09-0...|September|2022|3rd quarter|-1.12|1.12|   -2|  -1|jJuenito :) 48793...|2022-09-08| m p|[jJuenito]|jJuenito|  JJUENITO|\n",
      "|    pepe|4879320143|2022-09-09 11:23:59|    true|       1|     0|Pepe2022-09-09 11...|September|2022|3rd quarter|-1.12|1.12|   -2|  -1|  Pepe :) 4879320143|2022-09-09| m p|    [Pepe]|    Pepe|      PEPE|    pepe|4879320143|2022-09-09 11:23:59|    true|       1|     0|Pepe2022-09-09 11...|September|2022|3rd quarter|-1.12|1.12|   -2|  -1|  Pepe :) 4879320143|2022-09-09| m p|    [Pepe]|    Pepe|      PEPE|\n",
      "|   liusa|4879320143|2022-09-05 11:23:59|    true|       1|     0|Liusa2022-09-05 1...|September|2022|3rd quarter|-1.12|1.12|   -2|  -1| Liusa :) 4879320143|2022-09-05| m p|   [Liusa]|   Liusa|     LIUSA|   liusa|4879320143|2022-09-05 11:23:59|    true|       1|     0|Liusa2022-09-05 1...|September|2022|3rd quarter|-1.12|1.12|   -2|  -1| Liusa :) 4879320143|2022-09-05| m p|   [Liusa]|   Liusa|     LIUSA|\n",
      "+--------+----------+-------------------+--------+--------+------+--------------------+---------+----+-----------+-----+----+-----+----+--------------------+----------+----+----------+--------+----------+--------+----------+-------------------+--------+--------+------+--------------------+---------+----+-----------+-----+----+-----+----+--------------------+----------+----+----------+--------+----------+\n",
      "\n"
     ]
    }
   ],
   "source": [
    "spark_join = spark_df.join(spark_df, spark_df.name == spark_df.name, how=\"left\")\n",
    "spark_join.show()"
   ]
  },
  {
   "cell_type": "markdown",
   "metadata": {},
   "source": [
    "### 16. `groupBy` et `agg`: Grouper par une colonne et appliquer une agrégation"
   ]
  },
  {
   "cell_type": "code",
   "execution_count": 310,
   "metadata": {},
   "outputs": [
    {
     "name": "stdout",
     "output_type": "stream",
     "text": [
      "+-----+----------+\n",
      "|float|avg(float)|\n",
      "+-----+----------+\n",
      "|-1.12|     -1.12|\n",
      "+-----+----------+\n",
      "\n"
     ]
    }
   ],
   "source": [
    "spark_agg = spark_df.groupBy('float').agg(F.mean('float'))\n",
    "spark_agg.show()"
   ]
  },
  {
   "cell_type": "markdown",
   "metadata": {},
   "source": [
    "### 17. `drop_duplicates`: Supprimer les doublons"
   ]
  },
  {
   "cell_type": "code",
   "execution_count": 311,
   "metadata": {},
   "outputs": [
    {
     "name": "stdout",
     "output_type": "stream",
     "text": [
      "+--------+----------+-------------------+--------+--------+------+--------------------+---------+----+-----------+-----+----+-----+----+--------------------+----------+----+----------+--------+----------+\n",
      "|    name|       dni|               date|is_human|constant|filter|              concat|    month|year|    quarter|float| abs|floor|ceil|           concat_ws|     split|trim|array name| explode|name_upper|\n",
      "+--------+----------+-------------------+--------+--------+------+--------------------+---------+----+-----------+-----+----+-----+----+--------------------+----------+----+----------+--------+----------+\n",
      "|   ricky|4879320143|2022-09-05 11:23:59|    true|       1|     0| Ricky2022-09-05 ...|September|2022|3rd quarter|-1.12|1.12|   -2|  -1| Ricky :) 4879320143|2022-09-05| m p|   [Ricky]|   Ricky|     RICKY|\n",
      "|   simon|4879320143|2022-09-05 11:23:59|    true|       1|     1|Simon2022-09-05 1...|September|2022|3rd quarter|-1.12|1.12|   -2|  -1| Simon :) 4879320143|2022-09-05| m p|   [Simon]|   Simon|     SIMON|\n",
      "|  sergio|4879320143|2022-09-05 11:23:59|    true|       1|     0|Sergio2022-09-05 ...|September|2022|3rd quarter|-1.12|1.12|   -2|  -1|Sergio :) 4879320143|2022-09-05| m p|  [Sergio]|  Sergio|    SERGIO|\n",
      "| pedrito|4879320143|2022-09-07 11:23:59|    true|       1|     0|Pedrito2022-09-07...|September|2022|3rd quarter|-1.12|1.12|   -2|  -1|Pedrito :) 487932...|2022-09-07| m p| [Pedrito]| Pedrito|   PEDRITO|\n",
      "|jjuenito|4879320143|2022-09-08 11:23:59|    true|       1|     0|jJuenito2022-09-0...|September|2022|3rd quarter|-1.12|1.12|   -2|  -1|jJuenito :) 48793...|2022-09-08| m p|[jJuenito]|jJuenito|  JJUENITO|\n",
      "|    pepe|4879320143|2022-09-09 11:23:59|    true|       1|     0|Pepe2022-09-09 11...|September|2022|3rd quarter|-1.12|1.12|   -2|  -1|  Pepe :) 4879320143|2022-09-09| m p|    [Pepe]|    Pepe|      PEPE|\n",
      "|   liusa|4879320143|2022-09-05 11:23:59|    true|       1|     0|Liusa2022-09-05 1...|September|2022|3rd quarter|-1.12|1.12|   -2|  -1| Liusa :) 4879320143|2022-09-05| m p|   [Liusa]|   Liusa|     LIUSA|\n",
      "|   ricky|4879320143|2022-09-05 11:23:59|    true|       1|     0| Ricky2022-09-05 ...|September|2022|3rd quarter|-1.12|1.12|   -2|  -1| Ricky :) 4879320143|2022-09-05| m p|   [Ricky]|   Ricky|     RICKY|\n",
      "|   simon|4879320143|2022-09-05 11:23:59|    true|       1|     1|Simon2022-09-05 1...|September|2022|3rd quarter|-1.12|1.12|   -2|  -1| Simon :) 4879320143|2022-09-05| m p|   [Simon]|   Simon|     SIMON|\n",
      "|  sergio|4879320143|2022-09-05 11:23:59|    true|       1|     0|Sergio2022-09-05 ...|September|2022|3rd quarter|-1.12|1.12|   -2|  -1|Sergio :) 4879320143|2022-09-05| m p|  [Sergio]|  Sergio|    SERGIO|\n",
      "| pedrito|4879320143|2022-09-07 11:23:59|    true|       1|     0|Pedrito2022-09-07...|September|2022|3rd quarter|-1.12|1.12|   -2|  -1|Pedrito :) 487932...|2022-09-07| m p| [Pedrito]| Pedrito|   PEDRITO|\n",
      "|jjuenito|4879320143|2022-09-08 11:23:59|    true|       1|     0|jJuenito2022-09-0...|September|2022|3rd quarter|-1.12|1.12|   -2|  -1|jJuenito :) 48793...|2022-09-08| m p|[jJuenito]|jJuenito|  JJUENITO|\n",
      "|    pepe|4879320143|2022-09-09 11:23:59|    true|       1|     0|Pepe2022-09-09 11...|September|2022|3rd quarter|-1.12|1.12|   -2|  -1|  Pepe :) 4879320143|2022-09-09| m p|    [Pepe]|    Pepe|      PEPE|\n",
      "|   liusa|4879320143|2022-09-05 11:23:59|    true|       1|     0|Liusa2022-09-05 1...|September|2022|3rd quarter|-1.12|1.12|   -2|  -1| Liusa :) 4879320143|2022-09-05| m p|   [Liusa]|   Liusa|     LIUSA|\n",
      "+--------+----------+-------------------+--------+--------+------+--------------------+---------+----+-----------+-----+----+-----+----+--------------------+----------+----+----------+--------+----------+\n",
      "\n"
     ]
    }
   ],
   "source": [
    "spark_duplicate = spark_df.union(spark_df)\n",
    "spark_duplicate.show()"
   ]
  },
  {
   "cell_type": "code",
   "execution_count": 312,
   "metadata": {},
   "outputs": [
    {
     "name": "stdout",
     "output_type": "stream",
     "text": [
      "+--------+----------+-------------------+--------+--------+------+--------------------+---------+----+-----------+-----+----+-----+----+--------------------+----------+----+----------+--------+----------+\n",
      "|    name|       dni|               date|is_human|constant|filter|              concat|    month|year|    quarter|float| abs|floor|ceil|           concat_ws|     split|trim|array name| explode|name_upper|\n",
      "+--------+----------+-------------------+--------+--------+------+--------------------+---------+----+-----------+-----+----+-----+----+--------------------+----------+----+----------+--------+----------+\n",
      "|   ricky|4879320143|2022-09-05 11:23:59|    true|       1|     0| Ricky2022-09-05 ...|September|2022|3rd quarter|-1.12|1.12|   -2|  -1| Ricky :) 4879320143|2022-09-05| m p|   [Ricky]|   Ricky|     RICKY|\n",
      "|   simon|4879320143|2022-09-05 11:23:59|    true|       1|     1|Simon2022-09-05 1...|September|2022|3rd quarter|-1.12|1.12|   -2|  -1| Simon :) 4879320143|2022-09-05| m p|   [Simon]|   Simon|     SIMON|\n",
      "|  sergio|4879320143|2022-09-05 11:23:59|    true|       1|     0|Sergio2022-09-05 ...|September|2022|3rd quarter|-1.12|1.12|   -2|  -1|Sergio :) 4879320143|2022-09-05| m p|  [Sergio]|  Sergio|    SERGIO|\n",
      "| pedrito|4879320143|2022-09-07 11:23:59|    true|       1|     0|Pedrito2022-09-07...|September|2022|3rd quarter|-1.12|1.12|   -2|  -1|Pedrito :) 487932...|2022-09-07| m p| [Pedrito]| Pedrito|   PEDRITO|\n",
      "|jjuenito|4879320143|2022-09-08 11:23:59|    true|       1|     0|jJuenito2022-09-0...|September|2022|3rd quarter|-1.12|1.12|   -2|  -1|jJuenito :) 48793...|2022-09-08| m p|[jJuenito]|jJuenito|  JJUENITO|\n",
      "|    pepe|4879320143|2022-09-09 11:23:59|    true|       1|     0|Pepe2022-09-09 11...|September|2022|3rd quarter|-1.12|1.12|   -2|  -1|  Pepe :) 4879320143|2022-09-09| m p|    [Pepe]|    Pepe|      PEPE|\n",
      "|   liusa|4879320143|2022-09-05 11:23:59|    true|       1|     0|Liusa2022-09-05 1...|September|2022|3rd quarter|-1.12|1.12|   -2|  -1| Liusa :) 4879320143|2022-09-05| m p|   [Liusa]|   Liusa|     LIUSA|\n",
      "+--------+----------+-------------------+--------+--------+------+--------------------+---------+----+-----------+-----+----+-----+----+--------------------+----------+----+----------+--------+----------+\n",
      "\n"
     ]
    }
   ],
   "source": [
    "spark_plus_duplicate = spark_duplicate.drop_duplicates()\n",
    "spark_plus_duplicate.show()"
   ]
  },
  {
   "cell_type": "markdown",
   "metadata": {},
   "source": [
    "### 18. `where`/`filter`: Filtrer les lignes selon une condition"
   ]
  },
  {
   "cell_type": "code",
   "execution_count": 313,
   "metadata": {},
   "outputs": [
    {
     "name": "stdout",
     "output_type": "stream",
     "text": [
      "+-------+----------+-------------------+--------+--------+------+--------------------+---------+----+-----------+-----+----+-----+----+--------------------+----------+----+----------+-------+----------+\n",
      "|   name|       dni|               date|is_human|constant|filter|              concat|    month|year|    quarter|float| abs|floor|ceil|           concat_ws|     split|trim|array name|explode|name_upper|\n",
      "+-------+----------+-------------------+--------+--------+------+--------------------+---------+----+-----------+-----+----+-----+----+--------------------+----------+----+----------+-------+----------+\n",
      "|pedrito|4879320143|2022-09-07 11:23:59|    true|       1|     0|Pedrito2022-09-07...|September|2022|3rd quarter|-1.12|1.12|   -2|  -1|Pedrito :) 487932...|2022-09-07| m p| [Pedrito]|Pedrito|   PEDRITO|\n",
      "+-------+----------+-------------------+--------+--------+------+--------------------+---------+----+-----------+-----+----+-----+----+--------------------+----------+----+----------+-------+----------+\n",
      "\n"
     ]
    }
   ],
   "source": [
    "spark_df \\\n",
    "    .where(F.col('name') == 'pedrito') \\\n",
    "    .show()"
   ]
  },
  {
   "cell_type": "markdown",
   "metadata": {},
   "source": [
    "### 19. `when` et `otherwise`: Créer une colonne conditionnelle"
   ]
  },
  {
   "cell_type": "code",
   "execution_count": 314,
   "metadata": {},
   "outputs": [
    {
     "name": "stdout",
     "output_type": "stream",
     "text": [
      "+--------+----------+-------------------+--------+--------+------+--------------------+---------+----+-----------+-----+----+-----+----+--------------------+----------+----+----------+--------+----------+--------+\n",
      "|    name|       dni|               date|is_human|constant|filter|              concat|    month|year|    quarter|float| abs|floor|ceil|           concat_ws|     split|trim|array name| explode|name_upper|    when|\n",
      "+--------+----------+-------------------+--------+--------+------+--------------------+---------+----+-----------+-----+----+-----+----+--------------------+----------+----+----------+--------+----------+--------+\n",
      "|   ricky|4879320143|2022-09-05 11:23:59|    true|       1|     0| Ricky2022-09-05 ...|September|2022|3rd quarter|-1.12|1.12|   -2|  -1| Ricky :) 4879320143|2022-09-05| m p|   [Ricky]|   Ricky|     RICKY|no_pouet|\n",
      "|   simon|4879320143|2022-09-05 11:23:59|    true|       1|     1|Simon2022-09-05 1...|September|2022|3rd quarter|-1.12|1.12|   -2|  -1| Simon :) 4879320143|2022-09-05| m p|   [Simon]|   Simon|     SIMON|no_pouet|\n",
      "|  sergio|4879320143|2022-09-05 11:23:59|    true|       1|     0|Sergio2022-09-05 ...|September|2022|3rd quarter|-1.12|1.12|   -2|  -1|Sergio :) 4879320143|2022-09-05| m p|  [Sergio]|  Sergio|    SERGIO|no_pouet|\n",
      "| pedrito|4879320143|2022-09-07 11:23:59|    true|       1|     0|Pedrito2022-09-07...|September|2022|3rd quarter|-1.12|1.12|   -2|  -1|Pedrito :) 487932...|2022-09-07| m p| [Pedrito]| Pedrito|   PEDRITO|no_pouet|\n",
      "|jjuenito|4879320143|2022-09-08 11:23:59|    true|       1|     0|jJuenito2022-09-0...|September|2022|3rd quarter|-1.12|1.12|   -2|  -1|jJuenito :) 48793...|2022-09-08| m p|[jJuenito]|jJuenito|  JJUENITO|   pouet|\n",
      "|    pepe|4879320143|2022-09-09 11:23:59|    true|       1|     0|Pepe2022-09-09 11...|September|2022|3rd quarter|-1.12|1.12|   -2|  -1|  Pepe :) 4879320143|2022-09-09| m p|    [Pepe]|    Pepe|      PEPE|no_pouet|\n",
      "|   liusa|4879320143|2022-09-05 11:23:59|    true|       1|     0|Liusa2022-09-05 1...|September|2022|3rd quarter|-1.12|1.12|   -2|  -1| Liusa :) 4879320143|2022-09-05| m p|   [Liusa]|   Liusa|     LIUSA|no_pouet|\n",
      "+--------+----------+-------------------+--------+--------+------+--------------------+---------+----+-----------+-----+----+-----+----+--------------------+----------+----+----------+--------+----------+--------+\n",
      "\n"
     ]
    }
   ],
   "source": [
    "spark_df \\\n",
    "    .withColumn('when', \n",
    "        F.when(F.col('name') == 'jjuenito', 'pouet') \\\n",
    "    .otherwise('no_pouet')) \\\n",
    "    .show()"
   ]
  },
  {
   "cell_type": "markdown",
   "metadata": {},
   "source": [
    "### 20. `astype`: Changer le type de colonne (équivalent à `cast`)"
   ]
  },
  {
   "cell_type": "code",
   "execution_count": 315,
   "metadata": {},
   "outputs": [
    {
     "name": "stdout",
     "output_type": "stream",
     "text": [
      "root\n",
      " |-- name: string (nullable = true)\n",
      " |-- dni: long (nullable = true)\n",
      " |-- date: string (nullable = true)\n",
      " |-- is_human: boolean (nullable = true)\n",
      " |-- constant: integer (nullable = false)\n",
      " |-- filter: integer (nullable = false)\n",
      " |-- concat: string (nullable = true)\n",
      " |-- month: string (nullable = true)\n",
      " |-- year: string (nullable = true)\n",
      " |-- quarter: string (nullable = true)\n",
      " |-- float: string (nullable = false)\n",
      " |-- abs: double (nullable = true)\n",
      " |-- floor: long (nullable = true)\n",
      " |-- ceil: long (nullable = true)\n",
      " |-- concat_ws: string (nullable = false)\n",
      " |-- split: string (nullable = true)\n",
      " |-- trim: string (nullable = false)\n",
      " |-- array name: array (nullable = false)\n",
      " |    |-- element: string (containsNull = true)\n",
      " |-- explode: string (nullable = true)\n",
      " |-- name_upper: string (nullable = true)\n",
      "\n"
     ]
    }
   ],
   "source": [
    "spark_df.printSchema()"
   ]
  },
  {
   "cell_type": "code",
   "execution_count": 316,
   "metadata": {},
   "outputs": [],
   "source": [
    "spark_df = spark_df.withColumn('constant', spark_df.constant.astype('string'))"
   ]
  },
  {
   "cell_type": "code",
   "execution_count": 317,
   "metadata": {},
   "outputs": [
    {
     "name": "stdout",
     "output_type": "stream",
     "text": [
      "root\n",
      " |-- name: string (nullable = true)\n",
      " |-- dni: long (nullable = true)\n",
      " |-- date: string (nullable = true)\n",
      " |-- is_human: boolean (nullable = true)\n",
      " |-- constant: string (nullable = false)\n",
      " |-- filter: integer (nullable = false)\n",
      " |-- concat: string (nullable = true)\n",
      " |-- month: string (nullable = true)\n",
      " |-- year: string (nullable = true)\n",
      " |-- quarter: string (nullable = true)\n",
      " |-- float: string (nullable = false)\n",
      " |-- abs: double (nullable = true)\n",
      " |-- floor: long (nullable = true)\n",
      " |-- ceil: long (nullable = true)\n",
      " |-- concat_ws: string (nullable = false)\n",
      " |-- split: string (nullable = true)\n",
      " |-- trim: string (nullable = false)\n",
      " |-- array name: array (nullable = false)\n",
      " |    |-- element: string (containsNull = true)\n",
      " |-- explode: string (nullable = true)\n",
      " |-- name_upper: string (nullable = true)\n",
      "\n"
     ]
    }
   ],
   "source": [
    "spark_df.printSchema()"
   ]
  },
  {
   "cell_type": "markdown",
   "metadata": {},
   "source": [
    "### 21. `isin`: Vérifier si une valeur est dans une liste"
   ]
  },
  {
   "cell_type": "code",
   "execution_count": 318,
   "metadata": {},
   "outputs": [
    {
     "name": "stdout",
     "output_type": "stream",
     "text": [
      "+--------+\n",
      "|    name|\n",
      "+--------+\n",
      "|   ricky|\n",
      "|   simon|\n",
      "|  sergio|\n",
      "| pedrito|\n",
      "|jjuenito|\n",
      "|    pepe|\n",
      "|   liusa|\n",
      "+--------+\n",
      "\n"
     ]
    }
   ],
   "source": [
    "spark_df.select('name').show()"
   ]
  },
  {
   "cell_type": "code",
   "execution_count": 319,
   "metadata": {},
   "outputs": [
    {
     "name": "stdout",
     "output_type": "stream",
     "text": [
      "+------+----------+-------------------+--------+--------+------+--------------------+---------+----+-----------+-----+----+-----+----+--------------------+----------+----+----------+-------+----------+\n",
      "|  name|       dni|               date|is_human|constant|filter|              concat|    month|year|    quarter|float| abs|floor|ceil|           concat_ws|     split|trim|array name|explode|name_upper|\n",
      "+------+----------+-------------------+--------+--------+------+--------------------+---------+----+-----------+-----+----+-----+----+--------------------+----------+----+----------+-------+----------+\n",
      "| simon|4879320143|2022-09-05 11:23:59|    true|       1|     1|Simon2022-09-05 1...|September|2022|3rd quarter|-1.12|1.12|   -2|  -1| Simon :) 4879320143|2022-09-05| m p|   [Simon]|  Simon|     SIMON|\n",
      "|sergio|4879320143|2022-09-05 11:23:59|    true|       1|     0|Sergio2022-09-05 ...|September|2022|3rd quarter|-1.12|1.12|   -2|  -1|Sergio :) 4879320143|2022-09-05| m p|  [Sergio]| Sergio|    SERGIO|\n",
      "+------+----------+-------------------+--------+--------+------+--------------------+---------+----+-----------+-----+----+-----+----+--------------------+----------+----+----------+-------+----------+\n",
      "\n"
     ]
    }
   ],
   "source": [
    "spark_df.where(spark_df.name.isin(['simon', 'sergio'])).show()"
   ]
  },
  {
   "cell_type": "markdown",
   "metadata": {},
   "source": [
    "### 22. `lower`: Mettre des chaînes en minuscules (déjà utilisé mais réutilisé ici)"
   ]
  },
  {
   "cell_type": "code",
   "execution_count": 320,
   "metadata": {},
   "outputs": [
    {
     "name": "stdout",
     "output_type": "stream",
     "text": [
      "+--------+----------+-------------------+--------+--------+------+--------------------+---------+----+-----------+-----+----+-----+----+--------------------+----------+----+----------+--------+----------+--------------------+\n",
      "|    name|       dni|               date|is_human|constant|filter|              concat|    month|year|    quarter|float| abs|floor|ceil|           concat_ws|     split|trim|array name| explode|name_upper|        concat_lower|\n",
      "+--------+----------+-------------------+--------+--------+------+--------------------+---------+----+-----------+-----+----+-----+----+--------------------+----------+----+----------+--------+----------+--------------------+\n",
      "|   ricky|4879320143|2022-09-05 11:23:59|    true|       1|     0| Ricky2022-09-05 ...|September|2022|3rd quarter|-1.12|1.12|   -2|  -1| Ricky :) 4879320143|2022-09-05| m p|   [Ricky]|   Ricky|     RICKY| ricky :) 4879320143|\n",
      "|   simon|4879320143|2022-09-05 11:23:59|    true|       1|     1|Simon2022-09-05 1...|September|2022|3rd quarter|-1.12|1.12|   -2|  -1| Simon :) 4879320143|2022-09-05| m p|   [Simon]|   Simon|     SIMON| simon :) 4879320143|\n",
      "|  sergio|4879320143|2022-09-05 11:23:59|    true|       1|     0|Sergio2022-09-05 ...|September|2022|3rd quarter|-1.12|1.12|   -2|  -1|Sergio :) 4879320143|2022-09-05| m p|  [Sergio]|  Sergio|    SERGIO|sergio :) 4879320143|\n",
      "| pedrito|4879320143|2022-09-07 11:23:59|    true|       1|     0|Pedrito2022-09-07...|September|2022|3rd quarter|-1.12|1.12|   -2|  -1|Pedrito :) 487932...|2022-09-07| m p| [Pedrito]| Pedrito|   PEDRITO|pedrito :) 487932...|\n",
      "|jjuenito|4879320143|2022-09-08 11:23:59|    true|       1|     0|jJuenito2022-09-0...|September|2022|3rd quarter|-1.12|1.12|   -2|  -1|jJuenito :) 48793...|2022-09-08| m p|[jJuenito]|jJuenito|  JJUENITO|jjuenito :) 48793...|\n",
      "|    pepe|4879320143|2022-09-09 11:23:59|    true|       1|     0|Pepe2022-09-09 11...|September|2022|3rd quarter|-1.12|1.12|   -2|  -1|  Pepe :) 4879320143|2022-09-09| m p|    [Pepe]|    Pepe|      PEPE|  pepe :) 4879320143|\n",
      "|   liusa|4879320143|2022-09-05 11:23:59|    true|       1|     0|Liusa2022-09-05 1...|September|2022|3rd quarter|-1.12|1.12|   -2|  -1| Liusa :) 4879320143|2022-09-05| m p|   [Liusa]|   Liusa|     LIUSA| liusa :) 4879320143|\n",
      "+--------+----------+-------------------+--------+--------+------+--------------------+---------+----+-----------+-----+----+-----+----+--------------------+----------+----+----------+--------+----------+--------------------+\n",
      "\n"
     ]
    }
   ],
   "source": [
    "spark_df.withColumn(\"concat_lower\", F.lower('concat_ws')).show()"
   ]
  },
  {
   "cell_type": "markdown",
   "metadata": {},
   "source": [
    "### 23. `alias`: Utiliser un alias pour une colonne"
   ]
  },
  {
   "cell_type": "code",
   "execution_count": 321,
   "metadata": {},
   "outputs": [
    {
     "name": "stdout",
     "output_type": "stream",
     "text": [
      "+--------+\n",
      "|   pouet|\n",
      "+--------+\n",
      "|   ricky|\n",
      "|   simon|\n",
      "|  sergio|\n",
      "| pedrito|\n",
      "|jjuenito|\n",
      "|    pepe|\n",
      "|   liusa|\n",
      "+--------+\n",
      "\n"
     ]
    }
   ],
   "source": [
    "spark_df.select(F.col(\"name\").alias('pouet')).show()"
   ]
  },
  {
   "cell_type": "markdown",
   "metadata": {},
   "source": [
    "### 24. `isNull` et `isNotNull`: Vérifier si une colonne est nulle ou non"
   ]
  },
  {
   "cell_type": "code",
   "execution_count": 322,
   "metadata": {},
   "outputs": [
    {
     "name": "stdout",
     "output_type": "stream",
     "text": [
      "+--------+----------+-------------------+--------+--------+------+--------------------+---------+----+-----------+-----+----+-----+----+--------------------+----------+----+----------+--------+----------+\n",
      "|    name|       dni|               date|is_human|constant|filter|              concat|    month|year|    quarter|float| abs|floor|ceil|           concat_ws|     split|trim|array name| explode|name_upper|\n",
      "+--------+----------+-------------------+--------+--------+------+--------------------+---------+----+-----------+-----+----+-----+----+--------------------+----------+----+----------+--------+----------+\n",
      "|   ricky|4879320143|2022-09-05 11:23:59|    true|       1|     0| Ricky2022-09-05 ...|September|2022|3rd quarter|-1.12|1.12|   -2|  -1| Ricky :) 4879320143|2022-09-05| m p|   [Ricky]|   Ricky|     RICKY|\n",
      "|   simon|4879320143|2022-09-05 11:23:59|    true|       1|     1|Simon2022-09-05 1...|September|2022|3rd quarter|-1.12|1.12|   -2|  -1| Simon :) 4879320143|2022-09-05| m p|   [Simon]|   Simon|     SIMON|\n",
      "|  sergio|4879320143|2022-09-05 11:23:59|    true|       1|     0|Sergio2022-09-05 ...|September|2022|3rd quarter|-1.12|1.12|   -2|  -1|Sergio :) 4879320143|2022-09-05| m p|  [Sergio]|  Sergio|    SERGIO|\n",
      "| pedrito|4879320143|2022-09-07 11:23:59|    true|       1|     0|Pedrito2022-09-07...|September|2022|3rd quarter|-1.12|1.12|   -2|  -1|Pedrito :) 487932...|2022-09-07| m p| [Pedrito]| Pedrito|   PEDRITO|\n",
      "|jjuenito|4879320143|2022-09-08 11:23:59|    true|       1|     0|jJuenito2022-09-0...|September|2022|3rd quarter|-1.12|1.12|   -2|  -1|jJuenito :) 48793...|2022-09-08| m p|[jJuenito]|jJuenito|  JJUENITO|\n",
      "|    pepe|4879320143|2022-09-09 11:23:59|    true|       1|     0|Pepe2022-09-09 11...|September|2022|3rd quarter|-1.12|1.12|   -2|  -1|  Pepe :) 4879320143|2022-09-09| m p|    [Pepe]|    Pepe|      PEPE|\n",
      "|   liusa|4879320143|2022-09-05 11:23:59|    true|       1|     0|Liusa2022-09-05 1...|September|2022|3rd quarter|-1.12|1.12|   -2|  -1| Liusa :) 4879320143|2022-09-05| m p|   [Liusa]|   Liusa|     LIUSA|\n",
      "+--------+----------+-------------------+--------+--------+------+--------------------+---------+----+-----------+-----+----+-----+----+--------------------+----------+----+----------+--------+----------+\n",
      "\n",
      "+----+---+----+--------+--------+------+------+-----+----+-------+-----+---+-----+----+---------+-----+----+----------+-------+----------+\n",
      "|name|dni|date|is_human|constant|filter|concat|month|year|quarter|float|abs|floor|ceil|concat_ws|split|trim|array name|explode|name_upper|\n",
      "+----+---+----+--------+--------+------+------+-----+----+-------+-----+---+-----+----+---------+-----+----+----------+-------+----------+\n",
      "+----+---+----+--------+--------+------+------+-----+----+-------+-----+---+-----+----+---------+-----+----+----------+-------+----------+\n",
      "\n"
     ]
    }
   ],
   "source": [
    "spark_df.filter(F.col('name').isNotNull()).show()\n",
    "spark_df.filter(F.col('name').isNull()).show()"
   ]
  },
  {
   "cell_type": "markdown",
   "metadata": {},
   "source": [
    "### 25. `like` et `rlike`: Filtrer les chaînes avec un modèle"
   ]
  },
  {
   "cell_type": "code",
   "execution_count": 323,
   "metadata": {},
   "outputs": [
    {
     "name": "stdout",
     "output_type": "stream",
     "text": [
      "+--------+----------+-------------------+--------+--------+------+--------------------+---------+----+-----------+-----+----+-----+----+--------------------+----------+----+----------+--------+----------+\n",
      "|    name|       dni|               date|is_human|constant|filter|              concat|    month|year|    quarter|float| abs|floor|ceil|           concat_ws|     split|trim|array name| explode|name_upper|\n",
      "+--------+----------+-------------------+--------+--------+------+--------------------+---------+----+-----------+-----+----+-----+----+--------------------+----------+----+----------+--------+----------+\n",
      "|   ricky|4879320143|2022-09-05 11:23:59|    true|       1|     0| Ricky2022-09-05 ...|September|2022|3rd quarter|-1.12|1.12|   -2|  -1| Ricky :) 4879320143|2022-09-05| m p|   [Ricky]|   Ricky|     RICKY|\n",
      "|   simon|4879320143|2022-09-05 11:23:59|    true|       1|     1|Simon2022-09-05 1...|September|2022|3rd quarter|-1.12|1.12|   -2|  -1| Simon :) 4879320143|2022-09-05| m p|   [Simon]|   Simon|     SIMON|\n",
      "|  sergio|4879320143|2022-09-05 11:23:59|    true|       1|     0|Sergio2022-09-05 ...|September|2022|3rd quarter|-1.12|1.12|   -2|  -1|Sergio :) 4879320143|2022-09-05| m p|  [Sergio]|  Sergio|    SERGIO|\n",
      "| pedrito|4879320143|2022-09-07 11:23:59|    true|       1|     0|Pedrito2022-09-07...|September|2022|3rd quarter|-1.12|1.12|   -2|  -1|Pedrito :) 487932...|2022-09-07| m p| [Pedrito]| Pedrito|   PEDRITO|\n",
      "|jjuenito|4879320143|2022-09-08 11:23:59|    true|       1|     0|jJuenito2022-09-0...|September|2022|3rd quarter|-1.12|1.12|   -2|  -1|jJuenito :) 48793...|2022-09-08| m p|[jJuenito]|jJuenito|  JJUENITO|\n",
      "|    pepe|4879320143|2022-09-09 11:23:59|    true|       1|     0|Pepe2022-09-09 11...|September|2022|3rd quarter|-1.12|1.12|   -2|  -1|  Pepe :) 4879320143|2022-09-09| m p|    [Pepe]|    Pepe|      PEPE|\n",
      "|   liusa|4879320143|2022-09-05 11:23:59|    true|       1|     0|Liusa2022-09-05 1...|September|2022|3rd quarter|-1.12|1.12|   -2|  -1| Liusa :) 4879320143|2022-09-05| m p|   [Liusa]|   Liusa|     LIUSA|\n",
      "+--------+----------+-------------------+--------+--------+------+--------------------+---------+----+-----------+-----+----+-----+----+--------------------+----------+----+----------+--------+----------+\n",
      "\n"
     ]
    }
   ],
   "source": [
    "spark_df.filter(F.col('dni').like('%93%')).show()"
   ]
  },
  {
   "cell_type": "code",
   "execution_count": 324,
   "metadata": {},
   "outputs": [
    {
     "name": "stdout",
     "output_type": "stream",
     "text": [
      "+--------+----------+-------------------+--------+--------+------+--------------------+---------+----+-----------+-----+----+-----+----+--------------------+----------+----+----------+--------+----------+\n",
      "|    name|       dni|               date|is_human|constant|filter|              concat|    month|year|    quarter|float| abs|floor|ceil|           concat_ws|     split|trim|array name| explode|name_upper|\n",
      "+--------+----------+-------------------+--------+--------+------+--------------------+---------+----+-----------+-----+----+-----+----+--------------------+----------+----+----------+--------+----------+\n",
      "|   ricky|4879320143|2022-09-05 11:23:59|    true|       1|     0| Ricky2022-09-05 ...|September|2022|3rd quarter|-1.12|1.12|   -2|  -1| Ricky :) 4879320143|2022-09-05| m p|   [Ricky]|   Ricky|     RICKY|\n",
      "|   simon|4879320143|2022-09-05 11:23:59|    true|       1|     1|Simon2022-09-05 1...|September|2022|3rd quarter|-1.12|1.12|   -2|  -1| Simon :) 4879320143|2022-09-05| m p|   [Simon]|   Simon|     SIMON|\n",
      "|  sergio|4879320143|2022-09-05 11:23:59|    true|       1|     0|Sergio2022-09-05 ...|September|2022|3rd quarter|-1.12|1.12|   -2|  -1|Sergio :) 4879320143|2022-09-05| m p|  [Sergio]|  Sergio|    SERGIO|\n",
      "| pedrito|4879320143|2022-09-07 11:23:59|    true|       1|     0|Pedrito2022-09-07...|September|2022|3rd quarter|-1.12|1.12|   -2|  -1|Pedrito :) 487932...|2022-09-07| m p| [Pedrito]| Pedrito|   PEDRITO|\n",
      "|jjuenito|4879320143|2022-09-08 11:23:59|    true|       1|     0|jJuenito2022-09-0...|September|2022|3rd quarter|-1.12|1.12|   -2|  -1|jJuenito :) 48793...|2022-09-08| m p|[jJuenito]|jJuenito|  JJUENITO|\n",
      "|    pepe|4879320143|2022-09-09 11:23:59|    true|       1|     0|Pepe2022-09-09 11...|September|2022|3rd quarter|-1.12|1.12|   -2|  -1|  Pepe :) 4879320143|2022-09-09| m p|    [Pepe]|    Pepe|      PEPE|\n",
      "|   liusa|4879320143|2022-09-05 11:23:59|    true|       1|     0|Liusa2022-09-05 1...|September|2022|3rd quarter|-1.12|1.12|   -2|  -1| Liusa :) 4879320143|2022-09-05| m p|   [Liusa]|   Liusa|     LIUSA|\n",
      "+--------+----------+-------------------+--------+--------+------+--------------------+---------+----+-----------+-----+----+-----+----+--------------------+----------+----+----------+--------+----------+\n",
      "\n"
     ]
    }
   ],
   "source": [
    "spark_df.filter(F.col('dni').rlike(\"^[0-9]*$\")).show()"
   ]
  },
  {
   "cell_type": "markdown",
   "metadata": {},
   "source": [
    "### 26. `regexp_replace`: Remplacer des motifs dans une chaîne avec des expressions régulières"
   ]
  },
  {
   "cell_type": "code",
   "execution_count": 325,
   "metadata": {},
   "outputs": [
    {
     "name": "stdout",
     "output_type": "stream",
     "text": [
      "+----------------+\n",
      "|quarter_replaced|\n",
      "+----------------+\n",
      "|    --rd quarter|\n",
      "|    --rd quarter|\n",
      "|    --rd quarter|\n",
      "|    --rd quarter|\n",
      "|    --rd quarter|\n",
      "|    --rd quarter|\n",
      "|    --rd quarter|\n",
      "+----------------+\n",
      "\n"
     ]
    }
   ],
   "source": [
    "spark_df.select(F.regexp_replace('quarter', r'(\\d+)', '--').alias(\"quarter_replaced\")).show()"
   ]
  },
  {
   "cell_type": "code",
   "execution_count": 326,
   "metadata": {},
   "outputs": [
    {
     "name": "stdout",
     "output_type": "stream",
     "text": [
      "+--------+----------+-------------------+--------+--------+------+--------------------+---------+----+-----------+-----+----+-----+----+--------------------+----------+----+----------+--------+----------+\n",
      "|    name|       dni|               date|is_human|constant|filter|              concat|    month|year|    quarter|float| abs|floor|ceil|           concat_ws|     split|trim|array name| explode|name_upper|\n",
      "+--------+----------+-------------------+--------+--------+------+--------------------+---------+----+-----------+-----+----+-----+----+--------------------+----------+----+----------+--------+----------+\n",
      "|   ricky|4879320143|2022-09-05 11:23:59|    true|       1|     0| Ricky2022-09-05 ...|September|2022|3rd quarter|-1.12|1.12|   -2|  -1| Ricky :) 4879320143|2022-09-05| m p|   [Ricky]|   Ricky|     RICKY|\n",
      "|   simon|4879320143|2022-09-05 11:23:59|    true|       1|     1|Simon2022-09-05 1...|September|2022|3rd quarter|-1.12|1.12|   -2|  -1| Simon :) 4879320143|2022-09-05| m p|   [Simon]|   Simon|     SIMON|\n",
      "|  sergio|4879320143|2022-09-05 11:23:59|    true|       1|     0|Sergio2022-09-05 ...|September|2022|3rd quarter|-1.12|1.12|   -2|  -1|Sergio :) 4879320143|2022-09-05| m p|  [Sergio]|  Sergio|    SERGIO|\n",
      "| pedrito|4879320143|2022-09-07 11:23:59|    true|       1|     0|Pedrito2022-09-07...|September|2022|3rd quarter|-1.12|1.12|   -2|  -1|Pedrito :) 487932...|2022-09-07| m p| [Pedrito]| Pedrito|   PEDRITO|\n",
      "|jjuenito|4879320143|2022-09-08 11:23:59|    true|       1|     0|jJuenito2022-09-0...|September|2022|3rd quarter|-1.12|1.12|   -2|  -1|jJuenito :) 48793...|2022-09-08| m p|[jJuenito]|jJuenito|  JJUENITO|\n",
      "|    pepe|4879320143|2022-09-09 11:23:59|    true|       1|     0|Pepe2022-09-09 11...|September|2022|3rd quarter|-1.12|1.12|   -2|  -1|  Pepe :) 4879320143|2022-09-09| m p|    [Pepe]|    Pepe|      PEPE|\n",
      "|   liusa|4879320143|2022-09-05 11:23:59|    true|       1|     0|Liusa2022-09-05 1...|September|2022|3rd quarter|-1.12|1.12|   -2|  -1| Liusa :) 4879320143|2022-09-05| m p|   [Liusa]|   Liusa|     LIUSA|\n",
      "+--------+----------+-------------------+--------+--------+------+--------------------+---------+----+-----------+-----+----+-----+----+--------------------+----------+----+----------+--------+----------+\n",
      "\n"
     ]
    }
   ],
   "source": [
    "spark_df.show()"
   ]
  },
  {
   "cell_type": "markdown",
   "metadata": {},
   "source": [
    "### 27. `str.contains`: Vérifier si une chaîne contient un motif (équivalent à `like`)\n"
   ]
  },
  {
   "cell_type": "code",
   "execution_count": 328,
   "metadata": {},
   "outputs": [
    {
     "name": "stdout",
     "output_type": "stream",
     "text": [
      "+--------+----------+-------------------+--------+--------+------+--------------------+---------+----+-----------+-----+----+-----+----+--------------------+----------+----+----------+--------+----------+\n",
      "|    name|       dni|               date|is_human|constant|filter|              concat|    month|year|    quarter|float| abs|floor|ceil|           concat_ws|     split|trim|array name| explode|name_upper|\n",
      "+--------+----------+-------------------+--------+--------+------+--------------------+---------+----+-----------+-----+----+-----+----+--------------------+----------+----+----------+--------+----------+\n",
      "|   ricky|4879320143|2022-09-05 11:23:59|    true|       1|     0| Ricky2022-09-05 ...|September|2022|3rd quarter|-1.12|1.12|   -2|  -1| Ricky :) 4879320143|2022-09-05| m p|   [Ricky]|   Ricky|     RICKY|\n",
      "|   simon|4879320143|2022-09-05 11:23:59|    true|       1|     1|Simon2022-09-05 1...|September|2022|3rd quarter|-1.12|1.12|   -2|  -1| Simon :) 4879320143|2022-09-05| m p|   [Simon]|   Simon|     SIMON|\n",
      "|  sergio|4879320143|2022-09-05 11:23:59|    true|       1|     0|Sergio2022-09-05 ...|September|2022|3rd quarter|-1.12|1.12|   -2|  -1|Sergio :) 4879320143|2022-09-05| m p|  [Sergio]|  Sergio|    SERGIO|\n",
      "| pedrito|4879320143|2022-09-07 11:23:59|    true|       1|     0|Pedrito2022-09-07...|September|2022|3rd quarter|-1.12|1.12|   -2|  -1|Pedrito :) 487932...|2022-09-07| m p| [Pedrito]| Pedrito|   PEDRITO|\n",
      "|jjuenito|4879320143|2022-09-08 11:23:59|    true|       1|     0|jJuenito2022-09-0...|September|2022|3rd quarter|-1.12|1.12|   -2|  -1|jJuenito :) 48793...|2022-09-08| m p|[jJuenito]|jJuenito|  JJUENITO|\n",
      "|    pepe|4879320143|2022-09-09 11:23:59|    true|       1|     0|Pepe2022-09-09 11...|September|2022|3rd quarter|-1.12|1.12|   -2|  -1|  Pepe :) 4879320143|2022-09-09| m p|    [Pepe]|    Pepe|      PEPE|\n",
      "|   liusa|4879320143|2022-09-05 11:23:59|    true|       1|     0|Liusa2022-09-05 1...|September|2022|3rd quarter|-1.12|1.12|   -2|  -1| Liusa :) 4879320143|2022-09-05| m p|   [Liusa]|   Liusa|     LIUSA|\n",
      "+--------+----------+-------------------+--------+--------+------+--------------------+---------+----+-----------+-----+----+-----+----+--------------------+----------+----+----------+--------+----------+\n",
      "\n"
     ]
    }
   ],
   "source": [
    "spark_df.where(spark_df.quarter.contains('quarter')).show()"
   ]
  },
  {
   "cell_type": "markdown",
   "metadata": {},
   "source": [
    "### differences performances entre collect() - show()"
   ]
  },
  {
   "cell_type": "code",
   "execution_count": 329,
   "metadata": {},
   "outputs": [
    {
     "name": "stdout",
     "output_type": "stream",
     "text": [
      "+--------+----------+-------------------+--------+--------+------+--------------------+---------+----+-----------+-----+----+-----+----+--------------------+----------+----+----------+--------+----------+\n",
      "|    name|       dni|               date|is_human|constant|filter|              concat|    month|year|    quarter|float| abs|floor|ceil|           concat_ws|     split|trim|array name| explode|name_upper|\n",
      "+--------+----------+-------------------+--------+--------+------+--------------------+---------+----+-----------+-----+----+-----+----+--------------------+----------+----+----------+--------+----------+\n",
      "|   ricky|4879320143|2022-09-05 11:23:59|    true|       1|     0| Ricky2022-09-05 ...|September|2022|3rd quarter|-1.12|1.12|   -2|  -1| Ricky :) 4879320143|2022-09-05| m p|   [Ricky]|   Ricky|     RICKY|\n",
      "|jjuenito|4879320143|2022-09-08 11:23:59|    true|       1|     0|jJuenito2022-09-0...|September|2022|3rd quarter|-1.12|1.12|   -2|  -1|jJuenito :) 48793...|2022-09-08| m p|[jJuenito]|jJuenito|  JJUENITO|\n",
      "+--------+----------+-------------------+--------+--------+------+--------------------+---------+----+-----------+-----+----+-----+----+--------------------+----------+----+----------+--------+----------+\n",
      "\n",
      "Excécution : 0.3629910945892334\n"
     ]
    }
   ],
   "source": [
    "import time\n",
    "\n",
    "start_time= time.time()\n",
    "spark_df.where((F.col('concat_ws').like('%Ricky :) 487932014%')) | (F.col('name').like('%jjuenito%'))).show()\n",
    "end_time = time.time()\n",
    "duration = end_time - start_time\n",
    "\n",
    "print(f\"Excécution : {duration}\")"
   ]
  },
  {
   "cell_type": "code",
   "execution_count": 330,
   "metadata": {},
   "outputs": [
    {
     "name": "stdout",
     "output_type": "stream",
     "text": [
      "Excécution : 0.2285163402557373\n"
     ]
    }
   ],
   "source": [
    "start_time= time.time()\n",
    "spark_df.where((F.col('concat_ws').like('%Ricky :) 487932014%')) | (F.col('name').like('%jjuenito%'))).collect()\n",
    "end_time = time.time()\n",
    "duration = end_time - start_time\n",
    "\n",
    "print(f\"Excécution : {duration}\")\n"
   ]
  },
  {
   "cell_type": "markdown",
   "metadata": {},
   "source": [
    "### differences performances entre RDD - count()"
   ]
  },
  {
   "cell_type": "code",
   "execution_count": 335,
   "metadata": {},
   "outputs": [
    {
     "name": "stdout",
     "output_type": "stream",
     "text": [
      "Excécution : 0.20506024360656738\n"
     ]
    }
   ],
   "source": [
    "start_time= time.time()\n",
    "spark_df.count()\n",
    "end_time = time.time()\n",
    "duration = end_time - start_time\n",
    "\n",
    "print(f\"Excécution : {duration}\")"
   ]
  },
  {
   "cell_type": "code",
   "execution_count": 336,
   "metadata": {},
   "outputs": [
    {
     "name": "stdout",
     "output_type": "stream",
     "text": [
      "Excécution : 0.351226806640625\n"
     ]
    }
   ],
   "source": [
    "rdd = spark_df.rdd\n",
    "\n",
    "start_time= time.time()\n",
    "rdd.count()\n",
    "end_time = time.time()\n",
    "duration = end_time - start_time\n",
    "\n",
    "print(f\"Excécution : {duration}\")"
   ]
  }
 ],
 "metadata": {
  "kernelspec": {
   "display_name": "Python 3 (ipykernel)",
   "language": "python",
   "name": "python3"
  },
  "language_info": {
   "codemirror_mode": {
    "name": "ipython",
    "version": 3
   },
   "file_extension": ".py",
   "mimetype": "text/x-python",
   "name": "python",
   "nbconvert_exporter": "python",
   "pygments_lexer": "ipython3",
   "version": "3.11.6"
  }
 },
 "nbformat": 4,
 "nbformat_minor": 2
}
